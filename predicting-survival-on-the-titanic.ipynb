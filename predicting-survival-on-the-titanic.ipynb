{
 "cells": [
  {
   "cell_type": "markdown",
   "id": "c708be60",
   "metadata": {
    "papermill": {
     "duration": 0.012661,
     "end_time": "2023-04-19T14:20:43.097887",
     "exception": false,
     "start_time": "2023-04-19T14:20:43.085226",
     "status": "completed"
    },
    "tags": []
   },
   "source": [
    "![titanic](https://media.timeout.com/images/100654045/750/422/image.jpg)"
   ]
  },
  {
   "cell_type": "markdown",
   "id": "bea809f6",
   "metadata": {
    "papermill": {
     "duration": 0.011129,
     "end_time": "2023-04-19T14:20:43.120904",
     "exception": false,
     "start_time": "2023-04-19T14:20:43.109775",
     "status": "completed"
    },
    "tags": []
   },
   "source": [
    "# Introduction\n",
    "\n",
    "This notebook explores the use of different machine learning models to predict the survival of passengers on the Titanic. The goal of this project is to compare the performance of five models, including a neural network, logistic regression, random forest, support vector machine, and XGBoost, and determine which model produces the most accurate predictions.\n",
    "\n"
   ]
  },
  {
   "cell_type": "markdown",
   "id": "21bcb230",
   "metadata": {
    "papermill": {
     "duration": 0.010991,
     "end_time": "2023-04-19T14:20:43.142522",
     "exception": false,
     "start_time": "2023-04-19T14:20:43.131531",
     "status": "completed"
    },
    "tags": []
   },
   "source": [
    "# Code"
   ]
  },
  {
   "cell_type": "markdown",
   "id": "ea72541e",
   "metadata": {
    "papermill": {
     "duration": 0.012399,
     "end_time": "2023-04-19T14:20:43.166378",
     "exception": false,
     "start_time": "2023-04-19T14:20:43.153979",
     "status": "completed"
    },
    "tags": []
   },
   "source": [
    "This code cell imports the necessary Python libraries required for this notebook. The libraries are:\n",
    "\n",
    "- numpy: A library for the Python programming language, adding support for large, multi-dimensional arrays and matrices, along with a large collection of high-level mathematical functions to operate on these arrays.\n",
    "\n",
    "- pandas: A library for data manipulation and analysis.\n",
    "\n",
    "- seaborn: A library for data visualization based on matplotlib. It provides a high-level interface for drawing attractive statistical graphics.\n",
    "\n",
    "- tensorflow: A machine learning library for creating and training neural networks.\n",
    "\n",
    "- SVC: A Support Vector Machine (SVM) classifier for classification problems.\n",
    "\n",
    "- plotly.express: A library for creating interactive visualizations.\n",
    "\n",
    "- matplotlib: A plotting library for the Python programming language.\n",
    "\n",
    "- XGBClassifier: An implementation of the gradient boosting decision tree algorithm using the XGBoost library.\n",
    "\n",
    "- MinMaxScaler: A scaler that scales features to a specified range.\n",
    "\n",
    "- RandomForestClassifier: A classification algorithm that builds a forest of decision trees and combines their predictions to make accurate classifications.\n",
    "\n",
    "- LogisticRegression: A classification algorithm that uses a logistic function to model a binary dependent variable.\n",
    "\n",
    "- train_test_split: A function that splits data into training and testing sets for model training and evaluation.\n",
    "\n",
    "- f1_score: A metric that measures the weighted average of the precision and recall of a model's predictions.\n",
    "\n",
    "- classification_report: A function that generates a report of various classification metrics such as precision, recall, and F1-score."
   ]
  },
  {
   "cell_type": "code",
   "execution_count": 1,
   "id": "f03268b9",
   "metadata": {
    "execution": {
     "iopub.execute_input": "2023-04-19T14:20:43.192749Z",
     "iopub.status.busy": "2023-04-19T14:20:43.191499Z",
     "iopub.status.idle": "2023-04-19T14:20:56.319116Z",
     "shell.execute_reply": "2023-04-19T14:20:56.317662Z"
    },
    "papermill": {
     "duration": 13.144312,
     "end_time": "2023-04-19T14:20:56.322381",
     "exception": false,
     "start_time": "2023-04-19T14:20:43.178069",
     "status": "completed"
    },
    "tags": []
   },
   "outputs": [],
   "source": [
    "import numpy as np\n",
    "import pandas as pd\n",
    "import seaborn as sns\n",
    "import tensorflow as tf\n",
    "from sklearn.svm import SVC\n",
    "import plotly.express as px\n",
    "import matplotlib.pyplot as plt\n",
    "from xgboost import XGBClassifier\n",
    "from sklearn.preprocessing import MinMaxScaler\n",
    "from sklearn.ensemble import RandomForestClassifier\n",
    "from sklearn.linear_model import LogisticRegression\n",
    "from sklearn.model_selection import train_test_split\n",
    "from sklearn.metrics import f1_score, classification_report"
   ]
  },
  {
   "cell_type": "markdown",
   "id": "a5d07d94",
   "metadata": {
    "papermill": {
     "duration": 0.010424,
     "end_time": "2023-04-19T14:20:56.343911",
     "exception": false,
     "start_time": "2023-04-19T14:20:56.333487",
     "status": "completed"
    },
    "tags": []
   },
   "source": [
    "This code cell loads the Titanic dataset from the Seaborn library and assigns it to a Pandas DataFrame called `df`. The Titanic dataset contains information about the passengers onboard the Titanic, including their survival status, age, gender, class, and other relevant features. The dataset is often used in machine learning tutorials as a classification problem to predict the survival status of passengers based on their attributes.\n",
    "\n",
    "\n",
    "\n"
   ]
  },
  {
   "cell_type": "code",
   "execution_count": 2,
   "id": "0abd9d8d",
   "metadata": {
    "execution": {
     "iopub.execute_input": "2023-04-19T14:20:56.367974Z",
     "iopub.status.busy": "2023-04-19T14:20:56.366736Z",
     "iopub.status.idle": "2023-04-19T14:20:57.018914Z",
     "shell.execute_reply": "2023-04-19T14:20:57.017052Z"
    },
    "id": "zUJf1Hf4A82C",
    "papermill": {
     "duration": 0.668176,
     "end_time": "2023-04-19T14:20:57.022606",
     "exception": false,
     "start_time": "2023-04-19T14:20:56.354430",
     "status": "completed"
    },
    "tags": []
   },
   "outputs": [],
   "source": [
    "df = sns.load_dataset(\"titanic\")"
   ]
  },
  {
   "cell_type": "markdown",
   "id": "a44b3d84",
   "metadata": {
    "papermill": {
     "duration": 0.011538,
     "end_time": "2023-04-19T14:20:57.048006",
     "exception": false,
     "start_time": "2023-04-19T14:20:57.036468",
     "status": "completed"
    },
    "tags": []
   },
   "source": [
    "This code cell creates a heatmap visualization of the missing (NaN) values in the Titanic dataset.\n",
    "\n",
    "The first line of code creates a boolean DataFrame called `nan_values_transpose` that indicates which values in the `df` DataFrame are missing (NaN). The `isna()` method returns a DataFrame of the same shape as `df`, where each element is a boolean value indicating whether the corresponding element in `df` is missing or not. The `transpose()` method then flips the rows and columns of this DataFrame to make it easier to visualize.\n",
    "\n",
    "The second line of code creates a figure and an axes object for the heatmap using `plt.subplots()`. The `figsize` parameter sets the size of the figure.\n",
    "\n",
    "The third line of code creates the heatmap itself using the `sns.heatmap()` function. The `nan_values_transpose` DataFrame is passed as the data to be visualized, and `ax` specifies the axes object to draw the heatmap on. The `cmap` parameter sets the color map for the heatmap, in this case \"viridis\".\n",
    "\n",
    "The final line of code displays the heatmap using `plt.show()`. The yellow cells indicate the locations where missing (NaN) values occur in the Titanic dataset."
   ]
  },
  {
   "cell_type": "code",
   "execution_count": 3,
   "id": "2cf05df2",
   "metadata": {
    "execution": {
     "iopub.execute_input": "2023-04-19T14:20:57.072374Z",
     "iopub.status.busy": "2023-04-19T14:20:57.071926Z",
     "iopub.status.idle": "2023-04-19T14:20:58.545867Z",
     "shell.execute_reply": "2023-04-19T14:20:58.544222Z"
    },
    "id": "AvHq3Ph_A82D",
    "outputId": "07b67106-8fa8-466e-c946-4fff7b09cddc",
    "papermill": {
     "duration": 1.490997,
     "end_time": "2023-04-19T14:20:58.549847",
     "exception": false,
     "start_time": "2023-04-19T14:20:57.058850",
     "status": "completed"
    },
    "tags": []
   },
   "outputs": [
    {
     "data": {
      "image/png": "[encoded data removed]",
      "text/plain": [
       "<Figure size 2000x1000 with 2 Axes>"
      ]
     },
     "metadata": {},
     "output_type": "display_data"
    }
   ],
   "source": [
    "nan_values_transpose = df.isna().transpose().copy()\n",
    "fig, ax = plt.subplots(figsize = (20,10))\n",
    "sns.heatmap(nan_values_transpose, ax = ax, cmap = \"viridis\")\n",
    "plt.show()\n",
    "\n"
   ]
  },
  {
   "cell_type": "markdown",
   "id": "793b5b87",
   "metadata": {
    "papermill": {
     "duration": 0.012066,
     "end_time": "2023-04-19T14:20:58.574805",
     "exception": false,
     "start_time": "2023-04-19T14:20:58.562739",
     "status": "completed"
    },
    "tags": []
   },
   "source": [
    "This code cell drops the \"deck\" column from the Titanic dataset and then drops several other columns that are considered irrelevant to the analysis or have too many missing values to be useful.\n",
    "\n",
    "The first line of code drops the \"deck\" column from the `df` DataFrame using the `drop()` method. The `axis` parameter is set to 1 to indicate that we are dropping a column, and `inplace` is set to True to modify the `df` DataFrame in place.\n",
    "\n",
    "The second line of code drops the following columns from the `df` DataFrame:\n",
    "\n",
    "- \"who\": This column specifies the gender and age group of each passenger (\"man\", \"woman\", \"child\").\n",
    "\n",
    "- \"class\": This column specifies the ticket class of each passenger (1st, 2nd, or 3rd class).\n",
    "\n",
    "- \"adult_male\": This column indicates whether each passenger was male and over 18 years old.\n",
    "\n",
    "- \"embarked\": This column specifies the port of embarkation for each passenger (C = Cherbourg, Q = Queenstown, S = Southampton).\n",
    "\n",
    "- \"alive\": This column specifies whether each passenger survived or not.\n",
    "\n",
    "- \"alone\": This column indicates whether each passenger was traveling alone or with family.\n",
    "\n",
    "The `axis` parameter is set to 1 to indicate that we are dropping columns, and `inplace` is set to True to modify the `df` DataFrame in place. These columns are being dropped because they are not useful for our analysis or have too many missing values."
   ]
  },
  {
   "cell_type": "code",
   "execution_count": 4,
   "id": "fe2da906",
   "metadata": {
    "execution": {
     "iopub.execute_input": "2023-04-19T14:20:58.600190Z",
     "iopub.status.busy": "2023-04-19T14:20:58.599755Z",
     "iopub.status.idle": "2023-04-19T14:20:58.612040Z",
     "shell.execute_reply": "2023-04-19T14:20:58.610537Z"
    },
    "id": "dHBCH_uyA82E",
    "papermill": {
     "duration": 0.0278,
     "end_time": "2023-04-19T14:20:58.614524",
     "exception": false,
     "start_time": "2023-04-19T14:20:58.586724",
     "status": "completed"
    },
    "tags": []
   },
   "outputs": [],
   "source": [
    "df.drop([\"deck\"], axis = 1, inplace = True)\n",
    "\n",
    "df.drop([\"who\",\"class\",\"adult_male\",\"embarked\",\"alive\",\"alone\"], axis = 1, inplace = True)\n"
   ]
  },
  {
   "cell_type": "markdown",
   "id": "6774aebd",
   "metadata": {
    "papermill": {
     "duration": 0.011567,
     "end_time": "2023-04-19T14:20:58.637889",
     "exception": false,
     "start_time": "2023-04-19T14:20:58.626322",
     "status": "completed"
    },
    "tags": []
   },
   "source": [
    "This code cell converts the \"sex\" column in the Titanic dataset from a categorical variable (\"male\" or \"female\") to a binary variable (0 or 1) using the `np.where()` function.\n",
    "\n",
    "The `np.where()` function checks a specified condition and returns a specified value if the condition is true, and another specified value if the condition is false. In this case, the condition is whether the \"sex\" column is equal to \"female\". If the condition is true, the corresponding element in the new \"sex\" column is set to 1, and if the condition is false (i.e. the passenger is male), the corresponding element is set to 0.\n",
    "\n",
    "By converting the \"sex\" column to a binary variable, we can use it more easily as an input to machine learning models.\n",
    "\n",
    "\n",
    "\n"
   ]
  },
  {
   "cell_type": "code",
   "execution_count": 5,
   "id": "4ef56219",
   "metadata": {
    "execution": {
     "iopub.execute_input": "2023-04-19T14:20:58.664224Z",
     "iopub.status.busy": "2023-04-19T14:20:58.663057Z",
     "iopub.status.idle": "2023-04-19T14:20:58.669636Z",
     "shell.execute_reply": "2023-04-19T14:20:58.668671Z"
    },
    "id": "WN8sHKuRA82F",
    "papermill": {
     "duration": 0.022283,
     "end_time": "2023-04-19T14:20:58.672055",
     "exception": false,
     "start_time": "2023-04-19T14:20:58.649772",
     "status": "completed"
    },
    "tags": []
   },
   "outputs": [],
   "source": [
    "df[\"sex\"] = np.where(df.sex == \"female\", 1, 0)\n"
   ]
  },
  {
   "cell_type": "markdown",
   "id": "1e2f0d3d",
   "metadata": {
    "papermill": {
     "duration": 0.011287,
     "end_time": "2023-04-19T14:20:58.695316",
     "exception": false,
     "start_time": "2023-04-19T14:20:58.684029",
     "status": "completed"
    },
    "tags": []
   },
   "source": [
    "This code cell computes the correlation coefficients between the \"age\" column of the Titanic dataset and all other columns, and then sorts the coefficients in ascending order using the `sort_values()` method.\n",
    "\n",
    "The `corr()` method computes the pairwise correlation coefficients between all columns of the `df` DataFrame. The resulting correlation matrix is a square DataFrame with the same columns and rows as `df`. Each element in the matrix represents the Pearson correlation coefficient between the corresponding columns in `df`.\n",
    "\n",
    "The [\"age\"] syntax selects only the column of the correlation matrix corresponding to the \"age\" column of `df`.\n",
    "\n",
    "The `sort_values()` method sorts the resulting Series of correlation coefficients in ascending order. By default, `sort_values()` returns a new Series rather than modifying the original one.\n",
    "\n",
    "The resulting output shows the correlation coefficients between the \"age\" column and all other columns of the Titanic dataset, sorted in ascending order. Negative coefficients indicate an inverse correlation (i.e. as one variable increases, the other decreases) and positive coefficients indicate a direct correlation (i.e. as one variable increases, the other increases). A coefficient of 0 indicates no correlation.\n",
    "\n",
    "\n",
    "\n",
    "\n",
    "\n"
   ]
  },
  {
   "cell_type": "code",
   "execution_count": 6,
   "id": "07276850",
   "metadata": {
    "execution": {
     "iopub.execute_input": "2023-04-19T14:20:58.720858Z",
     "iopub.status.busy": "2023-04-19T14:20:58.720115Z",
     "iopub.status.idle": "2023-04-19T14:20:58.733056Z",
     "shell.execute_reply": "2023-04-19T14:20:58.731783Z"
    },
    "id": "hyDgjVWHA82F",
    "outputId": "2af7ab50-ae08-4c94-d321-6c5d92759a81",
    "papermill": {
     "duration": 0.028972,
     "end_time": "2023-04-19T14:20:58.735783",
     "exception": false,
     "start_time": "2023-04-19T14:20:58.706811",
     "status": "completed"
    },
    "tags": []
   },
   "outputs": [
    {
     "data": {
      "text/plain": [
       "pclass     -0.369226\n",
       "sibsp      -0.308247\n",
       "parch      -0.189119\n",
       "sex        -0.093254\n",
       "survived   -0.077221\n",
       "fare        0.096067\n",
       "age         1.000000\n",
       "Name: age, dtype: float64"
      ]
     },
     "execution_count": 6,
     "metadata": {},
     "output_type": "execute_result"
    }
   ],
   "source": [
    "df.corr()[\"age\"].sort_values()\n"
   ]
  },
  {
   "cell_type": "markdown",
   "id": "2c9eaf71",
   "metadata": {
    "papermill": {
     "duration": 0.011523,
     "end_time": "2023-04-19T14:20:58.759570",
     "exception": false,
     "start_time": "2023-04-19T14:20:58.748047",
     "status": "completed"
    },
    "tags": []
   },
   "source": [
    "This code cell groups the Titanic dataset by the \"pclass\" column and computes several summary statistics of the \"age\" column for each group using the `groupby()` and `agg()` methods.\n",
    "\n",
    "The `groupby()` method divides the rows of the `df` DataFrame into groups based on the unique values of the \"pclass\" column.\n",
    "\n",
    "The [\"age\"] syntax selects only the \"age\" column of the df DataFrame for further analysis.\n",
    "\n",
    "The `agg()` method applies one or more aggregation functions to the \"age\" column of each group, and returns a new DataFrame with one row per group and one column per aggregation function. In this case, we are computing the mean, median, minimum, maximum, and count of the \"age\" column for each group.\n",
    "\n",
    "The resulting output is a DataFrame with one row per unique value of \"pclass\" and one column per aggregation function. The \"mean\" column shows the mean age of passengers in each class, the \"median\" column shows the median age, the \"min\" column shows the minimum age, the \"max\" column shows the maximum age, and the \"count\" column shows the number of non-missing values in the \"age\" column for each class. This information can help us understand how the age distribution of passengers varies by ticket class."
   ]
  },
  {
   "cell_type": "code",
   "execution_count": 7,
   "id": "cac43d4a",
   "metadata": {
    "execution": {
     "iopub.execute_input": "2023-04-19T14:20:58.786076Z",
     "iopub.status.busy": "2023-04-19T14:20:58.785591Z",
     "iopub.status.idle": "2023-04-19T14:20:58.820364Z",
     "shell.execute_reply": "2023-04-19T14:20:58.819368Z"
    },
    "id": "lHti8WNPA82F",
    "outputId": "ccecd43f-c497-4fce-c591-e6d9546000e1",
    "papermill": {
     "duration": 0.051607,
     "end_time": "2023-04-19T14:20:58.822920",
     "exception": false,
     "start_time": "2023-04-19T14:20:58.771313",
     "status": "completed"
    },
    "tags": []
   },
   "outputs": [
    {
     "data": {
      "text/html": [
       "<div>\n",
       "<style scoped>\n",
       "    .dataframe tbody tr th:only-of-type {\n",
       "        vertical-align: middle;\n",
       "    }\n",
       "\n",
       "    .dataframe tbody tr th {\n",
       "        vertical-align: top;\n",
       "    }\n",
       "\n",
       "    .dataframe thead th {\n",
       "        text-align: right;\n",
       "    }\n",
       "</style>\n",
       "<table border=\"1\" class=\"dataframe\">\n",
       "  <thead>\n",
       "    <tr style=\"text-align: right;\">\n",
       "      <th></th>\n",
       "      <th>mean</th>\n",
       "      <th>median</th>\n",
       "      <th>min</th>\n",
       "      <th>max</th>\n",
       "      <th>count</th>\n",
       "    </tr>\n",
       "    <tr>\n",
       "      <th>pclass</th>\n",
       "      <th></th>\n",
       "      <th></th>\n",
       "      <th></th>\n",
       "      <th></th>\n",
       "      <th></th>\n",
       "    </tr>\n",
       "  </thead>\n",
       "  <tbody>\n",
       "    <tr>\n",
       "      <th>1</th>\n",
       "      <td>38.233441</td>\n",
       "      <td>37.0</td>\n",
       "      <td>0.92</td>\n",
       "      <td>80.0</td>\n",
       "      <td>186</td>\n",
       "    </tr>\n",
       "    <tr>\n",
       "      <th>2</th>\n",
       "      <td>29.877630</td>\n",
       "      <td>29.0</td>\n",
       "      <td>0.67</td>\n",
       "      <td>70.0</td>\n",
       "      <td>173</td>\n",
       "    </tr>\n",
       "    <tr>\n",
       "      <th>3</th>\n",
       "      <td>25.140620</td>\n",
       "      <td>24.0</td>\n",
       "      <td>0.42</td>\n",
       "      <td>74.0</td>\n",
       "      <td>355</td>\n",
       "    </tr>\n",
       "  </tbody>\n",
       "</table>\n",
       "</div>"
      ],
      "text/plain": [
       "             mean  median   min   max  count\n",
       "pclass                                      \n",
       "1       38.233441    37.0  0.92  80.0    186\n",
       "2       29.877630    29.0  0.67  70.0    173\n",
       "3       25.140620    24.0  0.42  74.0    355"
      ]
     },
     "execution_count": 7,
     "metadata": {},
     "output_type": "execute_result"
    }
   ],
   "source": [
    "pclass_age = df.groupby([\"pclass\"])[\"age\"].agg([\"mean\", \"median\",\"min\",\"max\",\"count\"])\n",
    "pclass_age\n"
   ]
  },
  {
   "cell_type": "markdown",
   "id": "9cb752a8",
   "metadata": {
    "papermill": {
     "duration": 0.01193,
     "end_time": "2023-04-19T14:20:58.846891",
     "exception": false,
     "start_time": "2023-04-19T14:20:58.834961",
     "status": "completed"
    },
    "tags": []
   },
   "source": [
    "This code cell groups the Titanic dataset by the \"sibsp\" column and computes several summary statistics of the \"age\" column for each group using the `groupby()` and `agg()` methods.\n",
    "\n",
    "The resulting output is a DataFrame with one row per unique value of \"sibsp\" and one column per aggregation function. The \"mean\" column shows the mean age of passengers with each number of siblings or spouses aboard, the \"median\" column shows the median age, the \"min\" column shows the minimum age, the \"max\" column shows the maximum age, and the \"count\" column shows the number of non-missing values in the \"age\" column for each group. This information can help us understand how the age distribution of passengers varies by the number of siblings or spouses aboard.\n",
    "\n"
   ]
  },
  {
   "cell_type": "code",
   "execution_count": 8,
   "id": "775ee48f",
   "metadata": {
    "execution": {
     "iopub.execute_input": "2023-04-19T14:20:58.874590Z",
     "iopub.status.busy": "2023-04-19T14:20:58.873806Z",
     "iopub.status.idle": "2023-04-19T14:20:58.892304Z",
     "shell.execute_reply": "2023-04-19T14:20:58.890477Z"
    },
    "id": "l6KECsjAA82G",
    "outputId": "1b4ca3de-90ad-4254-8eea-bf7581f9b46c",
    "papermill": {
     "duration": 0.035581,
     "end_time": "2023-04-19T14:20:58.895367",
     "exception": false,
     "start_time": "2023-04-19T14:20:58.859786",
     "status": "completed"
    },
    "tags": []
   },
   "outputs": [
    {
     "data": {
      "text/html": [
       "<div>\n",
       "<style scoped>\n",
       "    .dataframe tbody tr th:only-of-type {\n",
       "        vertical-align: middle;\n",
       "    }\n",
       "\n",
       "    .dataframe tbody tr th {\n",
       "        vertical-align: top;\n",
       "    }\n",
       "\n",
       "    .dataframe thead th {\n",
       "        text-align: right;\n",
       "    }\n",
       "</style>\n",
       "<table border=\"1\" class=\"dataframe\">\n",
       "  <thead>\n",
       "    <tr style=\"text-align: right;\">\n",
       "      <th></th>\n",
       "      <th>mean</th>\n",
       "      <th>median</th>\n",
       "      <th>min</th>\n",
       "      <th>max</th>\n",
       "      <th>count</th>\n",
       "    </tr>\n",
       "    <tr>\n",
       "      <th>sibsp</th>\n",
       "      <th></th>\n",
       "      <th></th>\n",
       "      <th></th>\n",
       "      <th></th>\n",
       "      <th></th>\n",
       "    </tr>\n",
       "  </thead>\n",
       "  <tbody>\n",
       "    <tr>\n",
       "      <th>0</th>\n",
       "      <td>31.397558</td>\n",
       "      <td>29.0</td>\n",
       "      <td>0.42</td>\n",
       "      <td>80.0</td>\n",
       "      <td>471</td>\n",
       "    </tr>\n",
       "    <tr>\n",
       "      <th>1</th>\n",
       "      <td>30.089727</td>\n",
       "      <td>30.0</td>\n",
       "      <td>0.67</td>\n",
       "      <td>70.0</td>\n",
       "      <td>183</td>\n",
       "    </tr>\n",
       "    <tr>\n",
       "      <th>2</th>\n",
       "      <td>22.620000</td>\n",
       "      <td>23.0</td>\n",
       "      <td>0.75</td>\n",
       "      <td>53.0</td>\n",
       "      <td>25</td>\n",
       "    </tr>\n",
       "    <tr>\n",
       "      <th>3</th>\n",
       "      <td>13.916667</td>\n",
       "      <td>9.5</td>\n",
       "      <td>2.00</td>\n",
       "      <td>33.0</td>\n",
       "      <td>12</td>\n",
       "    </tr>\n",
       "    <tr>\n",
       "      <th>4</th>\n",
       "      <td>7.055556</td>\n",
       "      <td>6.5</td>\n",
       "      <td>1.00</td>\n",
       "      <td>17.0</td>\n",
       "      <td>18</td>\n",
       "    </tr>\n",
       "    <tr>\n",
       "      <th>5</th>\n",
       "      <td>10.200000</td>\n",
       "      <td>11.0</td>\n",
       "      <td>1.00</td>\n",
       "      <td>16.0</td>\n",
       "      <td>5</td>\n",
       "    </tr>\n",
       "    <tr>\n",
       "      <th>8</th>\n",
       "      <td>NaN</td>\n",
       "      <td>NaN</td>\n",
       "      <td>NaN</td>\n",
       "      <td>NaN</td>\n",
       "      <td>0</td>\n",
       "    </tr>\n",
       "  </tbody>\n",
       "</table>\n",
       "</div>"
      ],
      "text/plain": [
       "            mean  median   min   max  count\n",
       "sibsp                                      \n",
       "0      31.397558    29.0  0.42  80.0    471\n",
       "1      30.089727    30.0  0.67  70.0    183\n",
       "2      22.620000    23.0  0.75  53.0     25\n",
       "3      13.916667     9.5  2.00  33.0     12\n",
       "4       7.055556     6.5  1.00  17.0     18\n",
       "5      10.200000    11.0  1.00  16.0      5\n",
       "8            NaN     NaN   NaN   NaN      0"
      ]
     },
     "execution_count": 8,
     "metadata": {},
     "output_type": "execute_result"
    }
   ],
   "source": [
    "sibsp_age = df.groupby([\"sibsp\"])[\"age\"].agg([\"mean\", \"median\",\"min\",\"max\",\"count\"])\n",
    "sibsp_age\n"
   ]
  },
  {
   "cell_type": "markdown",
   "id": "c01286c9",
   "metadata": {
    "papermill": {
     "duration": 0.012406,
     "end_time": "2023-04-19T14:20:58.919934",
     "exception": false,
     "start_time": "2023-04-19T14:20:58.907528",
     "status": "completed"
    },
    "tags": []
   },
   "source": [
    "This code cell groups the Titanic dataset by the \"pclass\" and \"sibsp\" columns and computes several summary statistics of the \"age\" column for each group using the `groupby()` and `agg()` methods.\n",
    "\n",
    "The resulting output is a DataFrame with one row per unique combination of \"pclass\" and \"sibsp\" and one column per aggregation function. The \"mean\" column shows the mean age of passengers with each combination of ticket class and number of siblings or spouses aboard, the \"median\" column shows the median age, the \"min\" column shows the minimum age, the \"max\" column shows the maximum age, and the \"count\" column shows the number of non-missing values in the \"age\" column for each group. This information can help us understand how the age distribution of passengers varies by the combination of ticket class and number of siblings or spouses aboard.\n",
    "\n",
    "\n",
    "\n",
    "\n",
    "\n"
   ]
  },
  {
   "cell_type": "code",
   "execution_count": 9,
   "id": "714d22f6",
   "metadata": {
    "execution": {
     "iopub.execute_input": "2023-04-19T14:20:58.948409Z",
     "iopub.status.busy": "2023-04-19T14:20:58.947420Z",
     "iopub.status.idle": "2023-04-19T14:20:58.971310Z",
     "shell.execute_reply": "2023-04-19T14:20:58.969986Z"
    },
    "id": "6xGJIdN0A82H",
    "outputId": "bc217f58-2ead-45ee-ea5c-489f62928d30",
    "papermill": {
     "duration": 0.042046,
     "end_time": "2023-04-19T14:20:58.974063",
     "exception": false,
     "start_time": "2023-04-19T14:20:58.932017",
     "status": "completed"
    },
    "tags": []
   },
   "outputs": [
    {
     "data": {
      "text/html": [
       "<div>\n",
       "<style scoped>\n",
       "    .dataframe tbody tr th:only-of-type {\n",
       "        vertical-align: middle;\n",
       "    }\n",
       "\n",
       "    .dataframe tbody tr th {\n",
       "        vertical-align: top;\n",
       "    }\n",
       "\n",
       "    .dataframe thead th {\n",
       "        text-align: right;\n",
       "    }\n",
       "</style>\n",
       "<table border=\"1\" class=\"dataframe\">\n",
       "  <thead>\n",
       "    <tr style=\"text-align: right;\">\n",
       "      <th></th>\n",
       "      <th></th>\n",
       "      <th>mean</th>\n",
       "      <th>median</th>\n",
       "      <th>min</th>\n",
       "      <th>max</th>\n",
       "      <th>count</th>\n",
       "    </tr>\n",
       "    <tr>\n",
       "      <th>pclass</th>\n",
       "      <th>sibsp</th>\n",
       "      <th></th>\n",
       "      <th></th>\n",
       "      <th></th>\n",
       "      <th></th>\n",
       "      <th></th>\n",
       "    </tr>\n",
       "  </thead>\n",
       "  <tbody>\n",
       "    <tr>\n",
       "      <th rowspan=\"4\" valign=\"top\">1</th>\n",
       "      <th>0</th>\n",
       "      <td>39.181416</td>\n",
       "      <td>37.0</td>\n",
       "      <td>4.00</td>\n",
       "      <td>80.0</td>\n",
       "      <td>113</td>\n",
       "    </tr>\n",
       "    <tr>\n",
       "      <th>1</th>\n",
       "      <td>37.414154</td>\n",
       "      <td>38.0</td>\n",
       "      <td>0.92</td>\n",
       "      <td>70.0</td>\n",
       "      <td>65</td>\n",
       "    </tr>\n",
       "    <tr>\n",
       "      <th>2</th>\n",
       "      <td>37.200000</td>\n",
       "      <td>44.0</td>\n",
       "      <td>18.00</td>\n",
       "      <td>53.0</td>\n",
       "      <td>5</td>\n",
       "    </tr>\n",
       "    <tr>\n",
       "      <th>3</th>\n",
       "      <td>22.000000</td>\n",
       "      <td>23.0</td>\n",
       "      <td>19.00</td>\n",
       "      <td>24.0</td>\n",
       "      <td>3</td>\n",
       "    </tr>\n",
       "    <tr>\n",
       "      <th rowspan=\"4\" valign=\"top\">2</th>\n",
       "      <th>0</th>\n",
       "      <td>31.934220</td>\n",
       "      <td>30.0</td>\n",
       "      <td>0.83</td>\n",
       "      <td>70.0</td>\n",
       "      <td>109</td>\n",
       "    </tr>\n",
       "    <tr>\n",
       "      <th>1</th>\n",
       "      <td>27.363636</td>\n",
       "      <td>29.0</td>\n",
       "      <td>0.67</td>\n",
       "      <td>60.0</td>\n",
       "      <td>55</td>\n",
       "    </tr>\n",
       "    <tr>\n",
       "      <th>2</th>\n",
       "      <td>19.125000</td>\n",
       "      <td>23.5</td>\n",
       "      <td>1.00</td>\n",
       "      <td>32.0</td>\n",
       "      <td>8</td>\n",
       "    </tr>\n",
       "    <tr>\n",
       "      <th>3</th>\n",
       "      <td>30.000000</td>\n",
       "      <td>30.0</td>\n",
       "      <td>30.00</td>\n",
       "      <td>30.0</td>\n",
       "      <td>1</td>\n",
       "    </tr>\n",
       "    <tr>\n",
       "      <th rowspan=\"7\" valign=\"top\">3</th>\n",
       "      <th>0</th>\n",
       "      <td>27.630201</td>\n",
       "      <td>26.0</td>\n",
       "      <td>0.42</td>\n",
       "      <td>74.0</td>\n",
       "      <td>249</td>\n",
       "    </tr>\n",
       "    <tr>\n",
       "      <th>1</th>\n",
       "      <td>24.912698</td>\n",
       "      <td>25.0</td>\n",
       "      <td>1.00</td>\n",
       "      <td>48.0</td>\n",
       "      <td>63</td>\n",
       "    </tr>\n",
       "    <tr>\n",
       "      <th>2</th>\n",
       "      <td>18.875000</td>\n",
       "      <td>19.5</td>\n",
       "      <td>0.75</td>\n",
       "      <td>41.0</td>\n",
       "      <td>12</td>\n",
       "    </tr>\n",
       "    <tr>\n",
       "      <th>3</th>\n",
       "      <td>8.875000</td>\n",
       "      <td>6.0</td>\n",
       "      <td>2.00</td>\n",
       "      <td>33.0</td>\n",
       "      <td>8</td>\n",
       "    </tr>\n",
       "    <tr>\n",
       "      <th>4</th>\n",
       "      <td>7.055556</td>\n",
       "      <td>6.5</td>\n",
       "      <td>1.00</td>\n",
       "      <td>17.0</td>\n",
       "      <td>18</td>\n",
       "    </tr>\n",
       "    <tr>\n",
       "      <th>5</th>\n",
       "      <td>10.200000</td>\n",
       "      <td>11.0</td>\n",
       "      <td>1.00</td>\n",
       "      <td>16.0</td>\n",
       "      <td>5</td>\n",
       "    </tr>\n",
       "    <tr>\n",
       "      <th>8</th>\n",
       "      <td>NaN</td>\n",
       "      <td>NaN</td>\n",
       "      <td>NaN</td>\n",
       "      <td>NaN</td>\n",
       "      <td>0</td>\n",
       "    </tr>\n",
       "  </tbody>\n",
       "</table>\n",
       "</div>"
      ],
      "text/plain": [
       "                   mean  median    min   max  count\n",
       "pclass sibsp                                       \n",
       "1      0      39.181416    37.0   4.00  80.0    113\n",
       "       1      37.414154    38.0   0.92  70.0     65\n",
       "       2      37.200000    44.0  18.00  53.0      5\n",
       "       3      22.000000    23.0  19.00  24.0      3\n",
       "2      0      31.934220    30.0   0.83  70.0    109\n",
       "       1      27.363636    29.0   0.67  60.0     55\n",
       "       2      19.125000    23.5   1.00  32.0      8\n",
       "       3      30.000000    30.0  30.00  30.0      1\n",
       "3      0      27.630201    26.0   0.42  74.0    249\n",
       "       1      24.912698    25.0   1.00  48.0     63\n",
       "       2      18.875000    19.5   0.75  41.0     12\n",
       "       3       8.875000     6.0   2.00  33.0      8\n",
       "       4       7.055556     6.5   1.00  17.0     18\n",
       "       5      10.200000    11.0   1.00  16.0      5\n",
       "       8            NaN     NaN    NaN   NaN      0"
      ]
     },
     "execution_count": 9,
     "metadata": {},
     "output_type": "execute_result"
    }
   ],
   "source": [
    "pclass_sibsp_age = df.groupby([\"pclass\",\"sibsp\"])[\"age\"].agg([\"mean\", \"median\",\"min\",\"max\",\"count\"])\n",
    "pclass_sibsp_age\n"
   ]
  },
  {
   "cell_type": "markdown",
   "id": "a75e4d08",
   "metadata": {
    "papermill": {
     "duration": 0.012867,
     "end_time": "2023-04-19T14:20:59.000181",
     "exception": false,
     "start_time": "2023-04-19T14:20:58.987314",
     "status": "completed"
    },
    "tags": []
   },
   "source": [
    "This code cell computes the mean of the \"age\" column in the Titanic dataset using the `mean()` method.\n",
    "\n",
    "The `mean()` method calculates the arithmetic mean of the values in a numeric column of a DataFrame, ignoring any missing values. In this case, we are computing the mean age of all passengers in the dataset.\n",
    "\n",
    "The resulting output is a single floating-point number, which represents the mean age of all passengers in the dataset.\n",
    "\n",
    "\n",
    "\n"
   ]
  },
  {
   "cell_type": "code",
   "execution_count": 10,
   "id": "5b936c44",
   "metadata": {
    "execution": {
     "iopub.execute_input": "2023-04-19T14:20:59.029606Z",
     "iopub.status.busy": "2023-04-19T14:20:59.029168Z",
     "iopub.status.idle": "2023-04-19T14:20:59.037628Z",
     "shell.execute_reply": "2023-04-19T14:20:59.036191Z"
    },
    "id": "DcVhwWqzA82H",
    "outputId": "11605071-79f2-485d-9e01-0743ebbc038a",
    "papermill": {
     "duration": 0.026418,
     "end_time": "2023-04-19T14:20:59.040390",
     "exception": false,
     "start_time": "2023-04-19T14:20:59.013972",
     "status": "completed"
    },
    "tags": []
   },
   "outputs": [
    {
     "data": {
      "text/plain": [
       "29.69911764705882"
      ]
     },
     "execution_count": 10,
     "metadata": {},
     "output_type": "execute_result"
    }
   ],
   "source": [
    "df.age.mean()\n"
   ]
  },
  {
   "cell_type": "markdown",
   "id": "3d61ee36",
   "metadata": {
    "papermill": {
     "duration": 0.012564,
     "end_time": "2023-04-19T14:20:59.066380",
     "exception": false,
     "start_time": "2023-04-19T14:20:59.053816",
     "status": "completed"
    },
    "tags": []
   },
   "source": [
    "This code cell defines a custom function `fill_nan_age(x)` that takes an input `x` and returns a value based on the following logic:\n",
    "\n",
    "- If `x` is equal to 0, the function returns 32.\n",
    "- If `x` is equal to 1, the function returns 30.\n",
    "- If `x` is equal to 2, the function returns 23.\n",
    "- If `x` is equal to 3, the function returns 14.\n",
    "- If `x` is equal to 4, the function returns 7.\n",
    "- If `x` is equal to 5, the function returns 10.\n",
    "- If `x` is greater than or equal to 6, the function returns 30.\n",
    "\n",
    "This function is used to fill in missing values in the \"age\" column of the Titanic dataset using the `map()` method.\n",
    "\n",
    "The `map()` method applies a function to each element of a Series (i.e., a column of a DataFrame) and returns a new Series with the same index as the original Series.\n",
    "\n",
    "\n",
    "In this case, the `map()` method is used to apply the `fill_nan_age(x)` function to the \"sibsp\" column of the Titanic dataset, replacing missing values in the \"age\" column with the corresponding values returned by the function.\n",
    "\n",
    "The resulting output is a new Series with the same length and index as the \"sibsp\" column of the Titanic dataset, but with missing values in the \"age\" column replaced by the corresponding values returned by the `fill_nan_age(x)` function.\n",
    "\n",
    "\n",
    "\n",
    "\n",
    "\n"
   ]
  },
  {
   "cell_type": "code",
   "execution_count": 11,
   "id": "30b88307",
   "metadata": {
    "execution": {
     "iopub.execute_input": "2023-04-19T14:20:59.094807Z",
     "iopub.status.busy": "2023-04-19T14:20:59.094373Z",
     "iopub.status.idle": "2023-04-19T14:20:59.101259Z",
     "shell.execute_reply": "2023-04-19T14:20:59.099779Z"
    },
    "id": "z4LGaVMJA82I",
    "papermill": {
     "duration": 0.024691,
     "end_time": "2023-04-19T14:20:59.104211",
     "exception": false,
     "start_time": "2023-04-19T14:20:59.079520",
     "status": "completed"
    },
    "tags": []
   },
   "outputs": [],
   "source": [
    "# map function \n",
    "def fill_nan_age(x):\n",
    "    if (x == 0):\n",
    "        return 32\n",
    "    elif (x == 1):\n",
    "        return 30\n",
    "    elif (x == 2):\n",
    "        return 23\n",
    "    elif (x == 3):\n",
    "        return 14\n",
    "    elif (x == 4):\n",
    "        return 7\n",
    "    elif (x == 5):\n",
    "        return 10\n",
    "    else:\n",
    "        return 30\n"
   ]
  },
  {
   "cell_type": "markdown",
   "id": "66bce157",
   "metadata": {
    "papermill": {
     "duration": 0.012905,
     "end_time": "2023-04-19T14:20:59.130175",
     "exception": false,
     "start_time": "2023-04-19T14:20:59.117270",
     "status": "completed"
    },
    "tags": []
   },
   "source": [
    "This code cell uses the `apply()` method to apply a lambda function to each row of the Titanic dataset. The lambda function takes a row `x` as input, checks if the \"age\" value in the row is missing (i.e., `pd.isnull(x.age)` returns True), and if so, calls the `fill_nan_age(x.sibsp)` function to fill in the missing age value based on the \"sibsp\" value in the same row. If the \"age\" value in the row is not missing, the lambda function simply returns the original \"age\" value.\n",
    "\n",
    "The resulting output is a modified version of the Titanic dataset where missing age values have been filled in based on the corresponding \"sibsp\" values using the `fill_nan_age()` function.\n",
    "\n",
    "\n",
    "\n"
   ]
  },
  {
   "cell_type": "code",
   "execution_count": 12,
   "id": "b33542e5",
   "metadata": {
    "execution": {
     "iopub.execute_input": "2023-04-19T14:20:59.159709Z",
     "iopub.status.busy": "2023-04-19T14:20:59.159290Z",
     "iopub.status.idle": "2023-04-19T14:20:59.191786Z",
     "shell.execute_reply": "2023-04-19T14:20:59.189866Z"
    },
    "id": "4F8b50lIA82I",
    "papermill": {
     "duration": 0.051335,
     "end_time": "2023-04-19T14:20:59.195162",
     "exception": false,
     "start_time": "2023-04-19T14:20:59.143827",
     "status": "completed"
    },
    "tags": []
   },
   "outputs": [],
   "source": [
    "df[\"age\"] = df.apply(lambda x : fill_nan_age(x.sibsp) if pd.isnull(x.age) else x.age, axis = 1 )\n"
   ]
  },
  {
   "cell_type": "markdown",
   "id": "9326fa35",
   "metadata": {
    "papermill": {
     "duration": 0.013529,
     "end_time": "2023-04-19T14:20:59.222652",
     "exception": false,
     "start_time": "2023-04-19T14:20:59.209123",
     "status": "completed"
    },
    "tags": []
   },
   "source": [
    "This code cell drops all rows with missing values in the Titanic dataset using the `dropna()` method, and then resets the index of the resulting DataFrame using the `reset_index()` method with the `drop` parameter set to `True` to remove the old index column.\n",
    "\n",
    "The resulting output is a modified version of the Titanic dataset with missing values removed and the index reset."
   ]
  },
  {
   "cell_type": "code",
   "execution_count": 13,
   "id": "917968bc",
   "metadata": {
    "execution": {
     "iopub.execute_input": "2023-04-19T14:20:59.250435Z",
     "iopub.status.busy": "2023-04-19T14:20:59.249374Z",
     "iopub.status.idle": "2023-04-19T14:20:59.258567Z",
     "shell.execute_reply": "2023-04-19T14:20:59.257046Z"
    },
    "id": "Kp2TMprWA82J",
    "papermill": {
     "duration": 0.025877,
     "end_time": "2023-04-19T14:20:59.261079",
     "exception": false,
     "start_time": "2023-04-19T14:20:59.235202",
     "status": "completed"
    },
    "tags": []
   },
   "outputs": [],
   "source": [
    "df = df.dropna().reset_index(drop = True)\n"
   ]
  },
  {
   "cell_type": "markdown",
   "id": "daff263f",
   "metadata": {
    "papermill": {
     "duration": 0.012004,
     "end_time": "2023-04-19T14:20:59.285526",
     "exception": false,
     "start_time": "2023-04-19T14:20:59.273522",
     "status": "completed"
    },
    "tags": []
   },
   "source": [
    "This code cell generates a heatmap using the Seaborn library to visualize missing values in the Titanic dataset after data cleaning. It first creates a new DataFrame called `nan_values_transpose_final` that transposes the Titanic dataset and uses the `isna()` method to check for missing values. It then creates a heatmap using `sns.heatmap()` with `nan_values_transpose_final` as the input, setting the size of the figure with `figsize`, the color map with `cmap`, and the `ax` parameter to specify the axes to draw the plot onto.\n",
    "\n",
    "The resulting output is a heatmap that shows there are no missing values in the cleaned Titanic dataset."
   ]
  },
  {
   "cell_type": "code",
   "execution_count": 14,
   "id": "70eac8e6",
   "metadata": {
    "execution": {
     "iopub.execute_input": "2023-04-19T14:20:59.315308Z",
     "iopub.status.busy": "2023-04-19T14:20:59.313910Z",
     "iopub.status.idle": "2023-04-19T14:21:00.823877Z",
     "shell.execute_reply": "2023-04-19T14:21:00.822493Z"
    },
    "id": "9XkcAqVHA82J",
    "outputId": "1c3a0679-6495-4d02-d48f-4790606d1c68",
    "papermill": {
     "duration": 1.527097,
     "end_time": "2023-04-19T14:21:00.826799",
     "exception": false,
     "start_time": "2023-04-19T14:20:59.299702",
     "status": "completed"
    },
    "tags": []
   },
   "outputs": [
    {
     "data": {
      "image/png": "[encoded data removed]",
      "text/plain": [
       "<Figure size 2000x1000 with 2 Axes>"
      ]
     },
     "metadata": {},
     "output_type": "display_data"
    }
   ],
   "source": [
    "nan_values_transpose_final = df.isna().transpose().copy()\n",
    "fig, ax = plt.subplots(figsize = (20,10))\n",
    "sns.heatmap(nan_values_transpose_final, ax = ax, cmap = \"viridis\")\n",
    "plt.show()\n"
   ]
  },
  {
   "cell_type": "markdown",
   "id": "89554ed5",
   "metadata": {
    "papermill": {
     "duration": 0.012849,
     "end_time": "2023-04-19T14:21:00.853353",
     "exception": false,
     "start_time": "2023-04-19T14:21:00.840504",
     "status": "completed"
    },
    "tags": []
   },
   "source": [
    "This code cell uses the `get_dummies()` function from pandas to perform one-hot encoding on the \"embark_town\" column of the Titanic dataset. One-hot encoding is a technique for converting categorical variables into numerical values that can be used in machine learning models. The `get_dummies()` function creates new columns for each unique value in the \"embark_town\" column, and assigns a 1 or 0 value to each row in the new columns depending on whether the original value in that row matches the corresponding unique value or not.\n",
    "\n",
    "The `drop_first` parameter is set to `True` to drop the first column of the one-hot encoded variables, which can be inferred from the values of the other columns. This is done to avoid collinearity (i.e., linear dependence) between the variables, which can cause issues in some machine learning models.\n",
    "\n",
    "The resulting output is a modified version of the Titanic dataset with the \"embark_town\" column replaced by one-hot encoded variables.\n",
    "\n",
    "\n",
    "\n"
   ]
  },
  {
   "cell_type": "code",
   "execution_count": 15,
   "id": "10302145",
   "metadata": {
    "execution": {
     "iopub.execute_input": "2023-04-19T14:21:00.883647Z",
     "iopub.status.busy": "2023-04-19T14:21:00.883189Z",
     "iopub.status.idle": "2023-04-19T14:21:00.894054Z",
     "shell.execute_reply": "2023-04-19T14:21:00.892373Z"
    },
    "id": "FWrji-WHA82K",
    "papermill": {
     "duration": 0.029415,
     "end_time": "2023-04-19T14:21:00.896885",
     "exception": false,
     "start_time": "2023-04-19T14:21:00.867470",
     "status": "completed"
    },
    "tags": []
   },
   "outputs": [],
   "source": [
    "df = pd.get_dummies(df, columns = [\"embark_town\"], drop_first = True)\n"
   ]
  },
  {
   "cell_type": "markdown",
   "id": "2f750d7c",
   "metadata": {
    "papermill": {
     "duration": 0.013243,
     "end_time": "2023-04-19T14:21:00.923608",
     "exception": false,
     "start_time": "2023-04-19T14:21:00.910365",
     "status": "completed"
    },
    "tags": []
   },
   "source": [
    "This code cell calculates the correlation coefficients between the \"survived\" column and all other columns in the Titanic dataset, and sorts the resulting values in descending order using the `sort_values()` method with the `ascending` parameter set to `False`. The correlation coefficient is a measure of the linear relationship between two variables, ranging from -1 (perfect negative correlation) to 1 (perfect positive correlation).\n",
    "\n",
    "The resulting output is a series of correlation coefficients, sorted in descending order based on their absolute values. The highest positive correlation is with the \"sex\" column, which suggests that being female was strongly associated with survival on the Titanic. Other variables that show a positive correlation with survival include \"fare\", \"embark_town_Queenstown\", and \"embark_town_Southampton\". Conversely, variables that show a negative correlation with survival include \"pclass\", \"age\", \"sibsp\", and \"embark_town_Cherbourg\".\n",
    "\n",
    "\n",
    "\n"
   ]
  },
  {
   "cell_type": "code",
   "execution_count": 16,
   "id": "6dddfea3",
   "metadata": {
    "execution": {
     "iopub.execute_input": "2023-04-19T14:21:00.953286Z",
     "iopub.status.busy": "2023-04-19T14:21:00.952879Z",
     "iopub.status.idle": "2023-04-19T14:21:00.963990Z",
     "shell.execute_reply": "2023-04-19T14:21:00.962877Z"
    },
    "id": "IXqxHCOmA82K",
    "outputId": "b8cb54f3-8a7e-4fca-de19-8928e5f0289d",
    "papermill": {
     "duration": 0.029694,
     "end_time": "2023-04-19T14:21:00.966522",
     "exception": false,
     "start_time": "2023-04-19T14:21:00.936828",
     "status": "completed"
    },
    "tags": []
   },
   "outputs": [
    {
     "data": {
      "text/plain": [
       "survived                   1.000000\n",
       "sex                        0.541585\n",
       "fare                       0.255290\n",
       "parch                      0.083151\n",
       "embark_town_Queenstown     0.004536\n",
       "sibsp                     -0.034040\n",
       "age                       -0.077954\n",
       "embark_town_Southampton   -0.151777\n",
       "pclass                    -0.335549\n",
       "Name: survived, dtype: float64"
      ]
     },
     "execution_count": 16,
     "metadata": {},
     "output_type": "execute_result"
    }
   ],
   "source": [
    "df.corr()[\"survived\"].sort_values(ascending = False)"
   ]
  },
  {
   "cell_type": "markdown",
   "id": "9a949e8b",
   "metadata": {
    "papermill": {
     "duration": 0.013854,
     "end_time": "2023-04-19T14:21:00.993863",
     "exception": false,
     "start_time": "2023-04-19T14:21:00.980009",
     "status": "completed"
    },
    "tags": []
   },
   "source": [
    "This code cell uses the Plotly Express library `(import plotly.express as px)` to create a scatter plot of the \"fare\" and \"survived\" columns from the Titanic dataset, with the \"sex\" column used to assign colors and the \"pclass\" column used to vary the size of the markers.\n",
    "\n",
    "The resulting scatter plot shows the relationship between the fare paid by each passenger and their survival status, with female passengers (in pink) generally having a higher survival rate than male passengers (in blue), particularly at lower fares. The size of the markers indicates the passenger class (with larger markers indicating a higher class), and we can see that higher-class passengers generally paid higher fares and had higher survival rates, although there is some overlap between the classes. Overall, this plot provides a useful visual representation of the relationship between fare, sex, passenger class, and survival on the Titanic.\n",
    "\n",
    "\n"
   ]
  },
  {
   "cell_type": "code",
   "execution_count": 17,
   "id": "6d962a39",
   "metadata": {
    "execution": {
     "iopub.execute_input": "2023-04-19T14:21:01.022939Z",
     "iopub.status.busy": "2023-04-19T14:21:01.022235Z",
     "iopub.status.idle": "2023-04-19T14:21:02.835072Z",
     "shell.execute_reply": "2023-04-19T14:21:02.833082Z"
    },
    "id": "-8ioEb8CA82K",
    "outputId": "6245e446-8f76-4573-a0a3-60ffa1f4568d",
    "papermill": {
     "duration": 1.831048,
     "end_time": "2023-04-19T14:21:02.838268",
     "exception": false,
     "start_time": "2023-04-19T14:21:01.007220",
     "status": "completed"
    },
    "tags": []
   },
   "outputs": [
    {
     "data": {
      "text/html": [
       "        <script type=\"text/javascript\">\n",
       "        window.PlotlyConfig = {MathJaxConfig: 'local'};\n",
       "        if (window.MathJax && window.MathJax.Hub && window.MathJax.Hub.Config) {window.MathJax.Hub.Config({SVG: {font: \"STIX-Web\"}});}\n",
       "        if (typeof require !== 'undefined') {\n",
       "        require.undef(\"plotly\");\n",
       "        requirejs.config({\n",
       "            paths: {\n",
       "                'plotly': ['https://cdn.plot.ly/plotly-2.18.0.min']\n",
       "            }\n",
       "        });\n",
       "        require(['plotly'], function(Plotly) {\n",
       "            window._Plotly = Plotly;\n",
       "        });\n",
       "        }\n",
       "        </script>\n",
       "        "
      ]
     },
     "metadata": {},
     "output_type": "display_data"
    },
    {
     "data": {
      "text/html": [
       "<div>                            <div id=\"8a8d0887-6352-4568-98e1-4ee441a7533f\" class=\"plotly-graph-div\" style=\"height:525px; width:100%;\"></div>            <script type=\"text/javascript\">                require([\"plotly\"], function(Plotly) {                    window.PLOTLYENV=window.PLOTLYENV || {};                                    if (document.getElementById(\"8a8d0887-6352-4568-98e1-4ee441a7533f\")) {                    Plotly.newPlot(                        \"8a8d0887-6352-4568-98e1-4ee441a7533f\",                        [{\"hovertemplate\":\"fare=%{x}<br>survived=%{y}<br>pclass=%{marker.size}<br>sex=%{marker.color}<extra></extra>\",\"legendgroup\":\"\",\"marker\":{\"color\":[0,1,1,1,0,0,0,0,1,1,1,1,0,0,1,1,0,0,1,1,0,0,1,0,1,1,0,0,1,0,0,1,1,0,0,0,0,0,1,1,1,1,0,1,1,0,0,1,0,1,0,0,1,1,0,0,1,0,1,0,0,0,0,0,0,1,0,1,0,0,1,0,0,0,0,0,0,0,1,0,0,1,0,1,1,0,0,1,0,0,0,0,0,0,0,0,0,1,0,1,0,0,0,0,0,1,0,0,1,0,1,0,1,1,0,0,0,0,1,0,0,0,1,0,0,0,0,1,0,0,0,1,1,0,0,1,0,0,0,1,1,1,0,0,0,0,1,0,0,0,1,0,0,0,0,1,0,0,0,0,1,0,0,0,0,1,1,0,0,0,0,1,0,0,0,0,1,0,0,1,0,0,0,1,0,1,0,0,0,1,0,1,0,1,1,0,0,1,1,0,0,0,0,0,1,0,0,1,0,0,1,0,0,0,1,1,0,1,0,0,0,0,0,0,0,0,0,0,1,1,0,0,1,0,1,0,1,0,0,1,1,0,0,0,0,1,1,0,0,0,1,0,0,1,1,1,1,1,1,0,0,0,0,1,0,0,0,1,1,0,0,1,0,1,1,1,0,0,1,0,0,0,0,0,0,0,0,0,1,1,1,0,1,0,0,0,1,0,1,1,0,0,1,0,0,1,1,0,1,1,1,1,0,0,1,1,0,1,1,0,0,1,1,0,1,0,1,1,1,1,0,0,0,1,0,0,1,0,0,0,1,0,0,0,1,1,1,0,0,0,0,0,0,0,0,1,1,1,1,0,0,1,0,0,0,1,1,1,1,0,0,0,0,1,1,1,0,0,0,1,1,0,1,0,0,0,1,0,1,0,0,0,1,1,0,1,0,0,1,0,0,1,0,1,0,0,0,0,1,0,0,1,0,0,1,1,1,0,1,0,0,0,1,0,0,1,1,0,0,0,1,1,0,0,1,1,1,0,0,1,0,0,1,0,0,1,0,1,0,0,0,0,0,0,0,0,1,1,0,0,0,0,0,0,0,0,0,0,1,0,0,1,1,1,0,0,0,0,1,0,0,0,1,0,1,1,0,0,0,0,0,0,0,0,0,1,0,1,0,0,1,1,1,1,0,1,0,0,0,0,0,0,1,0,0,1,0,1,0,1,0,0,1,0,0,1,0,0,0,1,0,0,1,1,1,0,1,0,1,1,1,1,0,0,0,1,0,0,0,0,0,0,0,1,0,1,0,1,1,0,0,0,0,1,0,0,1,0,0,0,1,0,1,0,0,1,1,1,0,1,1,0,0,0,1,0,0,0,0,0,1,0,1,0,0,1,0,0,0,1,0,0,0,0,0,0,0,1,1,1,0,1,0,0,1,0,1,1,0,0,0,0,0,0,0,0,1,0,0,0,0,0,0,1,1,0,0,1,0,0,1,1,0,1,0,0,0,0,1,0,1,0,1,1,0,0,1,0,0,0,0,0,0,0,0,0,0,0,1,1,0,0,0,0,0,0,1,1,0,1,0,0,0,0,0,0,0,0,1,0,1,0,0,0,0,0,1,0,0,1,0,1,0,0,0,1,0,1,0,1,0,0,0,0,0,1,1,0,0,1,0,0,0,0,0,1,1,0,1,1,0,0,0,0,0,1,0,0,0,0,0,1,0,0,0,0,1,0,0,1,0,0,0,1,0,0,0,0,1,0,0,0,1,0,1,0,1,0,0,0,0,1,0,1,0,0,1,0,1,1,1,0,0,0,0,1,0,0,0,0,0,1,0,0,0,1,1,0,1,0,1,0,0,0,0,0,1,0,1,0,0,0,1,0,0,1,0,0,0,1,0,0,1,0,0,0,0,0,1,0,0,0,0,1,0,0,0,0,0,0,1,0,0,0,0,0,0,1,0,0,1,1,1,1,1,0,1,0,0,0,1,1,0,1,1,0,0,0,0,1,0,0,1,1,0,0,0,1,1,0,1,0,0,1,0,1,1,0,0],\"coloraxis\":\"coloraxis\",\"size\":[3,1,3,1,3,3,1,3,3,2,3,1,3,3,3,2,3,2,3,3,2,2,3,1,3,3,3,1,3,3,1,1,3,2,1,1,3,3,3,3,3,2,3,2,3,3,3,3,3,3,3,3,1,2,1,1,2,3,2,3,3,1,3,1,3,2,3,3,3,2,3,2,3,3,3,3,3,2,3,3,3,3,1,2,3,3,3,1,3,3,3,1,3,3,3,1,1,2,2,3,3,1,3,3,3,3,3,3,3,1,3,3,3,3,3,3,2,1,3,2,3,2,2,1,3,3,3,3,3,3,3,3,2,2,2,1,1,3,1,3,3,3,3,2,2,3,3,2,2,2,1,3,3,3,1,3,3,3,3,3,2,3,3,3,3,1,3,1,3,1,3,3,3,1,3,3,1,2,3,3,2,3,2,3,1,3,1,3,3,2,2,3,2,1,1,3,3,3,2,3,3,3,3,3,3,3,3,3,1,3,2,3,2,3,1,3,2,1,2,3,2,3,3,1,3,2,3,2,3,1,3,2,3,2,3,2,2,2,2,3,3,2,3,3,1,3,2,1,2,3,3,1,3,3,3,1,1,1,2,3,3,1,1,3,2,3,3,1,1,1,3,2,1,3,1,3,2,3,3,3,3,3,3,1,3,3,3,2,3,1,1,2,3,3,1,3,1,1,1,3,3,3,2,3,1,1,1,2,1,1,1,2,3,2,3,2,2,1,1,3,3,2,2,3,1,3,2,3,1,3,1,1,3,1,3,1,1,3,1,2,1,2,2,2,2,2,3,3,3,3,1,3,3,3,3,1,2,3,3,3,2,3,3,3,3,1,3,3,1,1,3,3,1,3,1,3,1,3,3,1,3,3,1,3,2,3,2,3,2,1,3,3,1,3,3,3,2,2,2,3,3,3,3,3,2,3,2,3,3,3,3,1,2,3,3,2,2,2,3,3,3,3,3,3,3,2,2,3,3,1,3,2,3,1,1,3,2,1,2,2,3,3,2,3,1,2,1,3,1,2,3,1,1,3,3,1,1,2,3,1,3,1,2,3,3,2,1,3,3,3,3,2,2,3,1,2,3,3,3,3,2,3,3,1,3,1,1,3,3,3,3,1,1,3,3,1,3,1,3,3,3,3,3,1,1,2,1,3,3,3,3,1,1,3,1,2,3,2,3,1,3,3,1,3,3,2,1,3,2,2,3,3,3,3,2,1,1,3,1,1,3,3,2,1,1,2,2,3,2,1,2,3,3,3,1,1,1,1,3,3,3,2,3,3,3,3,3,3,3,2,1,1,3,3,3,2,1,3,3,2,1,2,1,3,1,2,1,3,3,3,1,3,3,2,3,2,3,3,1,2,3,1,3,1,3,3,1,2,1,3,3,3,3,3,2,3,3,2,2,3,1,3,3,3,1,2,1,3,3,1,3,1,1,3,2,3,2,3,3,3,1,3,3,3,1,3,1,3,3,3,2,3,3,3,2,3,3,2,1,1,3,1,3,3,2,2,3,3,1,2,1,2,2,2,3,3,3,3,1,3,1,3,3,2,2,3,3,3,1,1,3,3,3,1,2,3,3,1,3,1,1,3,3,3,2,2,1,1,3,1,1,1,3,2,3,1,2,3,3,2,3,2,2,1,3,2,3,2,3,1,3,2,2,2,3,3,1,3,3,1,1,1,3,3,1,3,2,1,3,2,3,3,3,2,2,3,2,3,1,3,3,3,1,3,1,1,3,3,3,3,3,2,3,2,3,3,3,3,1,3,1,1,3,3,3,3,3,3,1,3,2,3,1,3,2,1,3,3,3,2,2,1,3,3,3,1,3,2,1,3,3,2,3,3,1,3,2,3,3,1,3,1,3,3,3,3,2,3,3,2,3,3,3,1,3,3,3,1,3,2,1,3,3,3,3,3,2,1,3,3,3,1,2,3,1,1,3,3,3,2,1,3,2,2,2,1,3,3,3,1,1,3,2,3,3,3,3,1,2,3,3,2,3,3,2,1,3,1,3],\"sizemode\":\"area\",\"sizeref\":0.0075,\"symbol\":\"circle\"},\"mode\":\"markers\",\"name\":\"\",\"orientation\":\"v\",\"showlegend\":false,\"x\":[7.25,71.2833,7.925,53.1,8.05,8.4583,51.8625,21.075,11.1333,30.0708,16.7,26.55,8.05,31.275,7.8542,16.0,29.125,13.0,18.0,7.225,26.0,13.0,8.0292,35.5,21.075,31.3875,7.225,263.0,7.8792,7.8958,27.7208,146.5208,7.75,10.5,82.1708,52.0,7.2292,8.05,18.0,11.2417,9.475,21.0,7.8958,41.5792,7.8792,8.05,15.5,7.75,21.6792,17.8,39.6875,7.8,76.7292,26.0,61.9792,35.5,10.5,7.2292,27.75,46.9,7.2292,83.475,27.9,27.7208,15.2458,10.5,8.1583,7.925,8.6625,10.5,46.9,73.5,14.4542,56.4958,7.65,7.8958,8.05,29.0,12.475,9.0,9.5,7.7875,47.1,10.5,15.85,34.375,8.05,263.0,8.05,8.05,7.8542,61.175,20.575,7.25,8.05,34.6542,63.3583,23.0,26.0,7.8958,7.8958,77.2875,8.6542,7.925,7.8958,7.65,7.775,7.8958,24.15,52.0,14.4542,8.05,9.825,14.4583,7.925,7.75,21.0,247.5208,31.275,73.5,8.05,30.0708,13.0,77.2875,11.2417,7.75,7.1417,22.3583,6.975,7.8958,7.05,14.5,26.0,13.0,15.0458,26.2833,53.1,9.2167,79.2,15.2458,7.75,15.85,6.75,11.5,36.75,7.7958,34.375,26.0,13.0,12.525,66.6,8.05,14.5,7.3125,61.3792,7.7333,8.05,8.6625,69.55,16.1,15.75,7.775,8.6625,39.6875,20.525,55.0,27.9,25.925,56.4958,33.5,29.125,11.1333,7.925,30.6958,7.8542,25.4667,28.7125,13.0,0.0,69.55,15.05,31.3875,39.0,22.025,50.0,15.5,26.55,15.5,7.8958,13.0,13.0,7.8542,26.0,27.7208,146.5208,7.75,8.4042,7.75,13.0,9.5,69.55,6.4958,7.225,8.05,10.4625,15.85,18.7875,7.75,31.0,7.05,21.0,7.25,13.0,7.75,113.275,7.925,27.0,76.2917,10.5,8.05,13.0,8.05,7.8958,90.0,9.35,10.5,7.25,13.0,25.4667,83.475,7.775,13.5,31.3875,10.5,7.55,26.0,26.25,10.5,12.275,14.4542,15.5,10.5,7.125,7.225,90.0,7.775,14.5,52.5542,26.0,7.25,10.4625,26.55,16.1,20.2125,15.2458,79.2,86.5,512.3292,26.0,7.75,31.3875,79.65,0.0,7.75,10.5,39.6875,7.775,153.4625,135.6333,31.0,0.0,19.5,29.7,7.75,77.9583,7.75,0.0,29.125,20.25,7.75,7.8542,9.5,8.05,26.0,8.6625,9.5,7.8958,13.0,7.75,78.85,91.0792,12.875,8.85,7.8958,27.7208,7.2292,151.55,30.5,247.5208,7.75,23.25,0.0,12.35,8.05,151.55,110.8833,108.9,24.0,56.9292,83.1583,262.375,26.0,7.8958,26.25,7.8542,26.0,14.0,164.8667,134.5,7.25,7.8958,12.35,29.0,69.55,135.6333,6.2375,13.0,20.525,57.9792,23.25,28.5,153.4625,18.0,133.65,7.8958,66.6,134.5,8.05,35.5,26.0,263.0,13.0,13.0,13.0,13.0,13.0,16.1,15.9,8.6625,9.225,35.0,7.2292,17.8,7.225,9.5,55.0,13.0,7.8792,7.8792,27.9,27.7208,14.4542,7.05,15.5,7.25,75.25,7.2292,7.75,69.3,55.4417,6.4958,8.05,135.6333,21.075,82.1708,7.25,211.5,4.0125,7.775,227.525,15.7417,7.925,52.0,7.8958,73.5,46.9,13.0,7.7292,12.0,120.0,7.7958,7.925,113.275,16.7,7.7958,7.8542,26.0,10.5,12.65,7.925,8.05,9.825,15.85,8.6625,21.0,7.75,18.75,7.775,25.4667,7.8958,6.8583,90.0,0.0,7.925,8.05,32.5,13.0,13.0,24.15,7.8958,7.7333,7.875,14.4,20.2125,7.25,26.0,26.0,7.75,8.05,26.55,16.1,26.0,7.125,55.9,120.0,34.375,18.75,263.0,10.5,26.25,9.5,7.775,13.0,8.1125,81.8583,19.5,26.55,19.2583,30.5,27.75,19.9667,27.75,89.1042,8.05,7.8958,26.55,51.8625,10.5,7.75,26.55,8.05,38.5,13.0,8.05,7.05,0.0,26.55,7.725,19.2583,7.25,8.6625,27.75,13.7917,9.8375,52.0,21.0,7.0458,7.5208,12.2875,46.9,0.0,8.05,9.5875,91.0792,25.4667,90.0,29.7,8.05,15.9,19.9667,7.25,30.5,49.5042,8.05,14.4583,78.2667,15.1,151.55,7.7958,8.6625,7.75,7.6292,9.5875,86.5,108.9,26.0,26.55,22.525,56.4958,7.75,8.05,26.2875,59.4,7.4958,34.0208,10.5,24.15,26.0,7.8958,93.5,7.8958,7.225,57.9792,7.2292,7.75,10.5,221.7792,7.925,11.5,26.0,7.2292,7.2292,22.3583,8.6625,26.25,26.55,106.425,14.5,49.5,71.0,31.275,31.275,26.0,106.425,26.0,26.0,13.8625,20.525,36.75,110.8833,26.0,7.8292,7.225,7.775,26.55,39.6,227.525,79.65,17.4,7.75,7.8958,13.5,8.05,8.05,24.15,7.8958,21.075,7.2292,7.8542,10.5,51.4792,26.3875,7.75,8.05,14.5,13.0,55.9,14.4583,7.925,30.0,110.8833,26.0,40.125,8.7125,79.65,15.0,79.2,8.05,8.05,7.125,78.2667,7.25,7.75,26.0,24.15,33.0,0.0,7.225,56.9292,27.0,7.8958,42.4,8.05,26.55,15.55,7.8958,30.5,41.5792,153.4625,31.275,7.05,15.5,7.75,8.05,65.0,14.4,16.1,39.0,10.5,14.4542,52.5542,15.7417,7.8542,16.1,32.3208,12.35,77.9583,7.8958,7.7333,30.0,7.0542,30.5,0.0,27.9,13.0,7.925,26.25,39.6875,16.1,7.8542,69.3,27.9,56.4958,19.2583,76.7292,7.8958,35.5,7.55,7.55,7.8958,23.0,8.4333,7.8292,6.75,73.5,7.8958,15.5,13.0,113.275,133.65,7.225,25.5875,7.4958,7.925,73.5,13.0,7.775,8.05,52.0,39.0,52.0,10.5,13.0,0.0,7.775,8.05,9.8417,46.9,512.3292,8.1375,76.7292,9.225,46.9,39.0,41.5792,39.6875,10.1708,7.7958,211.3375,57.0,13.4167,56.4958,7.225,26.55,13.5,8.05,7.7333,110.8833,7.65,227.525,26.2875,14.4542,7.7417,7.8542,26.0,13.5,26.2875,151.55,15.2458,49.5042,26.55,52.0,9.4833,13.0,7.65,227.525,10.5,15.5,7.775,33.0,7.0542,13.0,13.0,53.1,8.6625,21.0,7.7375,26.0,7.925,211.3375,18.7875,0.0,13.0,13.0,16.1,34.375,512.3292,7.8958,7.8958,30.0,78.85,262.375,16.1,7.925,71.0,20.25,13.0,53.1,7.75,23.0,12.475,9.5,7.8958,65.0,14.5,7.7958,11.5,8.05,86.5,14.5,7.125,7.2292,120.0,7.775,77.9583,39.6,7.75,24.15,8.3625,9.5,7.8542,10.5,7.225,23.0,7.75,7.75,12.475,7.7375,211.3375,7.2292,57.0,30.0,23.45,7.05,7.25,7.4958,29.125,20.575,79.2,7.75,26.0,69.55,30.6958,7.8958,13.0,25.9292,8.6833,7.2292,24.15,13.0,26.25,120.0,8.5167,6.975,7.775,0.0,7.775,13.0,53.1,7.8875,24.15,10.5,31.275,8.05,0.0,7.925,37.0042,6.45,27.9,93.5,8.6625,0.0,12.475,39.6875,6.95,56.4958,37.0042,7.75,14.4542,18.75,7.2292,7.8542,8.3,83.1583,8.6625,8.05,56.4958,29.7,7.925,10.5,31.0,6.4375,8.6625,7.55,69.55,7.8958,33.0,89.1042,31.275,7.775,15.2458,39.4,26.0,9.35,164.8667,26.55,19.2583,7.2292,14.1083,11.5,25.9292,69.55,13.0,13.0,13.8583,50.4958,9.5,11.1333,7.8958,52.5542,5.0,9.0,24.0,7.225,9.8458,7.8958,7.8958,83.1583,26.0,7.8958,10.5167,10.5,7.05,29.125,13.0,30.0,23.45,30.0,7.75],\"xaxis\":\"x\",\"y\":[0,1,1,1,0,0,0,0,1,1,1,1,0,0,0,1,0,1,0,1,0,1,1,1,0,1,0,0,1,0,0,1,1,0,0,0,1,0,0,1,0,0,0,1,1,0,0,1,0,0,0,0,1,1,0,1,1,0,1,0,0,0,0,0,1,1,0,1,0,0,0,0,0,1,0,0,0,1,1,0,1,1,0,1,1,0,0,1,0,0,0,0,0,0,0,0,1,1,0,0,0,0,0,0,0,1,1,0,1,0,0,0,0,0,0,0,0,0,0,0,0,0,1,0,1,0,1,1,0,0,0,0,1,0,0,1,0,0,0,0,1,1,0,0,0,1,0,0,0,0,1,0,0,0,0,1,0,0,0,0,1,0,0,0,1,1,0,0,0,0,0,1,0,0,0,0,0,0,0,0,0,0,1,1,0,1,1,0,0,1,0,1,1,1,1,0,0,1,0,0,0,0,0,1,0,0,1,1,1,0,1,0,0,0,1,1,0,1,0,1,0,0,0,1,0,1,0,0,0,1,0,0,1,0,0,0,1,0,0,0,1,0,0,0,0,0,1,1,0,0,0,0,0,0,1,1,1,1,1,0,1,0,0,0,0,0,1,1,1,0,1,1,0,1,1,0,0,0,1,0,0,0,1,0,0,1,0,1,1,1,1,0,0,0,0,0,0,1,1,1,1,0,1,0,1,1,1,0,1,1,1,0,0,0,1,1,0,1,1,0,0,1,1,0,1,0,1,1,1,1,0,0,0,1,0,0,1,1,0,1,1,0,0,0,1,1,1,1,0,0,0,0,0,0,0,1,0,1,1,0,0,0,0,0,0,1,1,1,1,1,0,0,0,0,1,1,0,0,0,1,1,0,1,0,0,0,1,0,1,1,1,0,1,1,0,0,0,0,1,1,0,0,0,0,0,0,1,0,0,0,0,1,0,1,0,1,1,0,0,0,0,0,0,0,0,1,1,0,1,1,1,1,0,0,1,0,1,0,0,1,0,0,1,1,1,1,1,1,1,0,0,0,1,0,1,0,1,1,0,1,0,0,0,0,0,0,0,0,1,0,0,1,1,0,0,0,0,0,1,0,0,0,1,1,0,1,0,0,1,0,0,0,0,0,0,1,0,0,0,0,0,0,0,1,0,1,1,0,1,1,0,1,1,0,0,1,0,1,0,1,0,0,1,0,0,1,0,0,0,1,0,0,1,0,1,0,1,0,1,1,0,0,1,0,0,1,1,0,1,1,0,0,1,1,0,1,0,1,1,0,0,0,0,0,0,0,0,0,1,1,1,1,1,0,0,1,1,0,1,1,1,0,0,0,1,0,1,0,0,0,1,0,0,0,0,1,0,0,1,1,0,0,0,1,0,0,1,1,1,0,0,1,0,0,1,0,0,1,0,0,1,1,0,0,0,0,1,0,0,1,0,1,0,0,1,0,0,0,0,0,1,0,1,1,1,0,1,0,1,0,1,0,1,0,0,0,0,0,0,1,0,0,0,1,0,0,0,0,1,1,0,0,1,0,0,0,1,0,1,0,1,0,0,0,0,0,0,0,1,1,1,1,0,0,0,0,1,0,0,1,1,0,0,0,0,1,1,1,1,1,0,1,0,0,0,1,1,0,0,1,0,0,0,1,0,1,1,0,0,1,0,0,0,0,0,0,1,0,0,1,0,1,0,1,0,0,1,0,0,1,1,0,0,1,1,0,0,0,1,0,0,1,1,0,1,0,0,0,0,0,0,0,0,1,0,0,1,0,1,1,1,0,0,0,0,1,0,1,0,0,0,0,0,0,0,1,1,0,0,0,1,1,1,1,0,0,0,0,1,0,0,0,0,0,0,0,0,0,0,1,1,0,1,0,0,0,1,1,1,1,0,0,0,1,0,0,1,1,0,0,1,0,0,0,0,0,0,1,0,0,0,1,0,1,1,1,1,0,0,0,1,0,0,1,1,0,0,1,0,1,0,0,1,1,0,0,0,1,1,0,0,0,0,0,0,1,0,1,0],\"yaxis\":\"y\",\"type\":\"scatter\"}],                        {\"template\":{\"data\":{\"histogram2dcontour\":[{\"type\":\"histogram2dcontour\",\"colorbar\":{\"outlinewidth\":0,\"ticks\":\"\"},\"colorscale\":[[0.0,\"#0d0887\"],[0.1111111111111111,\"#46039f\"],[0.2222222222222222,\"#7201a8\"],[0.3333333333333333,\"#9c179e\"],[0.4444444444444444,\"#bd3786\"],[0.5555555555555556,\"#d8576b\"],[0.6666666666666666,\"#ed7953\"],[0.7777777777777778,\"#fb9f3a\"],[0.8888888888888888,\"#fdca26\"],[1.0,\"#f0f921\"]]}],\"choropleth\":[{\"type\":\"choropleth\",\"colorbar\":{\"outlinewidth\":0,\"ticks\":\"\"}}],\"histogram2d\":[{\"type\":\"histogram2d\",\"colorbar\":{\"outlinewidth\":0,\"ticks\":\"\"},\"colorscale\":[[0.0,\"#0d0887\"],[0.1111111111111111,\"#46039f\"],[0.2222222222222222,\"#7201a8\"],[0.3333333333333333,\"#9c179e\"],[0.4444444444444444,\"#bd3786\"],[0.5555555555555556,\"#d8576b\"],[0.6666666666666666,\"#ed7953\"],[0.7777777777777778,\"#fb9f3a\"],[0.8888888888888888,\"#fdca26\"],[1.0,\"#f0f921\"]]}],\"heatmap\":[{\"type\":\"heatmap\",\"colorbar\":{\"outlinewidth\":0,\"ticks\":\"\"},\"colorscale\":[[0.0,\"#0d0887\"],[0.1111111111111111,\"#46039f\"],[0.2222222222222222,\"#7201a8\"],[0.3333333333333333,\"#9c179e\"],[0.4444444444444444,\"#bd3786\"],[0.5555555555555556,\"#d8576b\"],[0.6666666666666666,\"#ed7953\"],[0.7777777777777778,\"#fb9f3a\"],[0.8888888888888888,\"#fdca26\"],[1.0,\"#f0f921\"]]}],\"heatmapgl\":[{\"type\":\"heatmapgl\",\"colorbar\":{\"outlinewidth\":0,\"ticks\":\"\"},\"colorscale\":[[0.0,\"#0d0887\"],[0.1111111111111111,\"#46039f\"],[0.2222222222222222,\"#7201a8\"],[0.3333333333333333,\"#9c179e\"],[0.4444444444444444,\"#bd3786\"],[0.5555555555555556,\"#d8576b\"],[0.6666666666666666,\"#ed7953\"],[0.7777777777777778,\"#fb9f3a\"],[0.8888888888888888,\"#fdca26\"],[1.0,\"#f0f921\"]]}],\"contourcarpet\":[{\"type\":\"contourcarpet\",\"colorbar\":{\"outlinewidth\":0,\"ticks\":\"\"}}],\"contour\":[{\"type\":\"contour\",\"colorbar\":{\"outlinewidth\":0,\"ticks\":\"\"},\"colorscale\":[[0.0,\"#0d0887\"],[0.1111111111111111,\"#46039f\"],[0.2222222222222222,\"#7201a8\"],[0.3333333333333333,\"#9c179e\"],[0.4444444444444444,\"#bd3786\"],[0.5555555555555556,\"#d8576b\"],[0.6666666666666666,\"#ed7953\"],[0.7777777777777778,\"#fb9f3a\"],[0.8888888888888888,\"#fdca26\"],[1.0,\"#f0f921\"]]}],\"surface\":[{\"type\":\"surface\",\"colorbar\":{\"outlinewidth\":0,\"ticks\":\"\"},\"colorscale\":[[0.0,\"#0d0887\"],[0.1111111111111111,\"#46039f\"],[0.2222222222222222,\"#7201a8\"],[0.3333333333333333,\"#9c179e\"],[0.4444444444444444,\"#bd3786\"],[0.5555555555555556,\"#d8576b\"],[0.6666666666666666,\"#ed7953\"],[0.7777777777777778,\"#fb9f3a\"],[0.8888888888888888,\"#fdca26\"],[1.0,\"#f0f921\"]]}],\"mesh3d\":[{\"type\":\"mesh3d\",\"colorbar\":{\"outlinewidth\":0,\"ticks\":\"\"}}],\"scatter\":[{\"fillpattern\":{\"fillmode\":\"overlay\",\"size\":10,\"solidity\":0.2},\"type\":\"scatter\"}],\"parcoords\":[{\"type\":\"parcoords\",\"line\":{\"colorbar\":{\"outlinewidth\":0,\"ticks\":\"\"}}}],\"scatterpolargl\":[{\"type\":\"scatterpolargl\",\"marker\":{\"colorbar\":{\"outlinewidth\":0,\"ticks\":\"\"}}}],\"bar\":[{\"error_x\":{\"color\":\"#2a3f5f\"},\"error_y\":{\"color\":\"#2a3f5f\"},\"marker\":{\"line\":{\"color\":\"#E5ECF6\",\"width\":0.5},\"pattern\":{\"fillmode\":\"overlay\",\"size\":10,\"solidity\":0.2}},\"type\":\"bar\"}],\"scattergeo\":[{\"type\":\"scattergeo\",\"marker\":{\"colorbar\":{\"outlinewidth\":0,\"ticks\":\"\"}}}],\"scatterpolar\":[{\"type\":\"scatterpolar\",\"marker\":{\"colorbar\":{\"outlinewidth\":0,\"ticks\":\"\"}}}],\"histogram\":[{\"marker\":{\"pattern\":{\"fillmode\":\"overlay\",\"size\":10,\"solidity\":0.2}},\"type\":\"histogram\"}],\"scattergl\":[{\"type\":\"scattergl\",\"marker\":{\"colorbar\":{\"outlinewidth\":0,\"ticks\":\"\"}}}],\"scatter3d\":[{\"type\":\"scatter3d\",\"line\":{\"colorbar\":{\"outlinewidth\":0,\"ticks\":\"\"}},\"marker\":{\"colorbar\":{\"outlinewidth\":0,\"ticks\":\"\"}}}],\"scattermapbox\":[{\"type\":\"scattermapbox\",\"marker\":{\"colorbar\":{\"outlinewidth\":0,\"ticks\":\"\"}}}],\"scatterternary\":[{\"type\":\"scatterternary\",\"marker\":{\"colorbar\":{\"outlinewidth\":0,\"ticks\":\"\"}}}],\"scattercarpet\":[{\"type\":\"scattercarpet\",\"marker\":{\"colorbar\":{\"outlinewidth\":0,\"ticks\":\"\"}}}],\"carpet\":[{\"aaxis\":{\"endlinecolor\":\"#2a3f5f\",\"gridcolor\":\"white\",\"linecolor\":\"white\",\"minorgridcolor\":\"white\",\"startlinecolor\":\"#2a3f5f\"},\"baxis\":{\"endlinecolor\":\"#2a3f5f\",\"gridcolor\":\"white\",\"linecolor\":\"white\",\"minorgridcolor\":\"white\",\"startlinecolor\":\"#2a3f5f\"},\"type\":\"carpet\"}],\"table\":[{\"cells\":{\"fill\":{\"color\":\"#EBF0F8\"},\"line\":{\"color\":\"white\"}},\"header\":{\"fill\":{\"color\":\"#C8D4E3\"},\"line\":{\"color\":\"white\"}},\"type\":\"table\"}],\"barpolar\":[{\"marker\":{\"line\":{\"color\":\"#E5ECF6\",\"width\":0.5},\"pattern\":{\"fillmode\":\"overlay\",\"size\":10,\"solidity\":0.2}},\"type\":\"barpolar\"}],\"pie\":[{\"automargin\":true,\"type\":\"pie\"}]},\"layout\":{\"autotypenumbers\":\"strict\",\"colorway\":[\"#636efa\",\"#EF553B\",\"#00cc96\",\"#ab63fa\",\"#FFA15A\",\"#19d3f3\",\"#FF6692\",\"#B6E880\",\"#FF97FF\",\"#FECB52\"],\"font\":{\"color\":\"#2a3f5f\"},\"hovermode\":\"closest\",\"hoverlabel\":{\"align\":\"left\"},\"paper_bgcolor\":\"white\",\"plot_bgcolor\":\"#E5ECF6\",\"polar\":{\"bgcolor\":\"#E5ECF6\",\"angularaxis\":{\"gridcolor\":\"white\",\"linecolor\":\"white\",\"ticks\":\"\"},\"radialaxis\":{\"gridcolor\":\"white\",\"linecolor\":\"white\",\"ticks\":\"\"}},\"ternary\":{\"bgcolor\":\"#E5ECF6\",\"aaxis\":{\"gridcolor\":\"white\",\"linecolor\":\"white\",\"ticks\":\"\"},\"baxis\":{\"gridcolor\":\"white\",\"linecolor\":\"white\",\"ticks\":\"\"},\"caxis\":{\"gridcolor\":\"white\",\"linecolor\":\"white\",\"ticks\":\"\"}},\"coloraxis\":{\"colorbar\":{\"outlinewidth\":0,\"ticks\":\"\"}},\"colorscale\":{\"sequential\":[[0.0,\"#0d0887\"],[0.1111111111111111,\"#46039f\"],[0.2222222222222222,\"#7201a8\"],[0.3333333333333333,\"#9c179e\"],[0.4444444444444444,\"#bd3786\"],[0.5555555555555556,\"#d8576b\"],[0.6666666666666666,\"#ed7953\"],[0.7777777777777778,\"#fb9f3a\"],[0.8888888888888888,\"#fdca26\"],[1.0,\"#f0f921\"]],\"sequentialminus\":[[0.0,\"#0d0887\"],[0.1111111111111111,\"#46039f\"],[0.2222222222222222,\"#7201a8\"],[0.3333333333333333,\"#9c179e\"],[0.4444444444444444,\"#bd3786\"],[0.5555555555555556,\"#d8576b\"],[0.6666666666666666,\"#ed7953\"],[0.7777777777777778,\"#fb9f3a\"],[0.8888888888888888,\"#fdca26\"],[1.0,\"#f0f921\"]],\"diverging\":[[0,\"#8e0152\"],[0.1,\"#c51b7d\"],[0.2,\"#de77ae\"],[0.3,\"#f1b6da\"],[0.4,\"#fde0ef\"],[0.5,\"#f7f7f7\"],[0.6,\"#e6f5d0\"],[0.7,\"#b8e186\"],[0.8,\"#7fbc41\"],[0.9,\"#4d9221\"],[1,\"#276419\"]]},\"xaxis\":{\"gridcolor\":\"white\",\"linecolor\":\"white\",\"ticks\":\"\",\"title\":{\"standoff\":15},\"zerolinecolor\":\"white\",\"automargin\":true,\"zerolinewidth\":2},\"yaxis\":{\"gridcolor\":\"white\",\"linecolor\":\"white\",\"ticks\":\"\",\"title\":{\"standoff\":15},\"zerolinecolor\":\"white\",\"automargin\":true,\"zerolinewidth\":2},\"scene\":{\"xaxis\":{\"backgroundcolor\":\"#E5ECF6\",\"gridcolor\":\"white\",\"linecolor\":\"white\",\"showbackground\":true,\"ticks\":\"\",\"zerolinecolor\":\"white\",\"gridwidth\":2},\"yaxis\":{\"backgroundcolor\":\"#E5ECF6\",\"gridcolor\":\"white\",\"linecolor\":\"white\",\"showbackground\":true,\"ticks\":\"\",\"zerolinecolor\":\"white\",\"gridwidth\":2},\"zaxis\":{\"backgroundcolor\":\"#E5ECF6\",\"gridcolor\":\"white\",\"linecolor\":\"white\",\"showbackground\":true,\"ticks\":\"\",\"zerolinecolor\":\"white\",\"gridwidth\":2}},\"shapedefaults\":{\"line\":{\"color\":\"#2a3f5f\"}},\"annotationdefaults\":{\"arrowcolor\":\"#2a3f5f\",\"arrowhead\":0,\"arrowwidth\":1},\"geo\":{\"bgcolor\":\"white\",\"landcolor\":\"#E5ECF6\",\"subunitcolor\":\"white\",\"showland\":true,\"showlakes\":true,\"lakecolor\":\"white\"},\"title\":{\"x\":0.05},\"mapbox\":{\"style\":\"light\"}}},\"xaxis\":{\"anchor\":\"y\",\"domain\":[0.0,1.0],\"title\":{\"text\":\"fare\"}},\"yaxis\":{\"anchor\":\"x\",\"domain\":[0.0,1.0],\"title\":{\"text\":\"survived\"}},\"coloraxis\":{\"colorbar\":{\"title\":{\"text\":\"sex\"}},\"colorscale\":[[0.0,\"#0d0887\"],[0.1111111111111111,\"#46039f\"],[0.2222222222222222,\"#7201a8\"],[0.3333333333333333,\"#9c179e\"],[0.4444444444444444,\"#bd3786\"],[0.5555555555555556,\"#d8576b\"],[0.6666666666666666,\"#ed7953\"],[0.7777777777777778,\"#fb9f3a\"],[0.8888888888888888,\"#fdca26\"],[1.0,\"#f0f921\"]]},\"legend\":{\"tracegroupgap\":0,\"itemsizing\":\"constant\"},\"margin\":{\"t\":60}},                        {\"responsive\": true}                    ).then(function(){\n",
       "                            \n",
       "var gd = document.getElementById('8a8d0887-6352-4568-98e1-4ee441a7533f');\n",
       "var x = new MutationObserver(function (mutations, observer) {{\n",
       "        var display = window.getComputedStyle(gd).display;\n",
       "        if (!display || display === 'none') {{\n",
       "            console.log([gd, 'removed!']);\n",
       "            Plotly.purge(gd);\n",
       "            observer.disconnect();\n",
       "        }}\n",
       "}});\n",
       "\n",
       "// Listen for the removal of the full notebook cells\n",
       "var notebookContainer = gd.closest('#notebook-container');\n",
       "if (notebookContainer) {{\n",
       "    x.observe(notebookContainer, {childList: true});\n",
       "}}\n",
       "\n",
       "// Listen for the clearing of the current output cell\n",
       "var outputEl = gd.closest('.output');\n",
       "if (outputEl) {{\n",
       "    x.observe(outputEl, {childList: true});\n",
       "}}\n",
       "\n",
       "                        })                };                });            </script>        </div>"
      ]
     },
     "metadata": {},
     "output_type": "display_data"
    }
   ],
   "source": [
    "scatter = px.scatter(df, x = \"fare\", y = \"survived\", color = \"sex\", size = \"pclass\")\n",
    "scatter.show()"
   ]
  },
  {
   "cell_type": "markdown",
   "id": "9d411f2b",
   "metadata": {
    "papermill": {
     "duration": 0.014918,
     "end_time": "2023-04-19T14:21:02.870116",
     "exception": false,
     "start_time": "2023-04-19T14:21:02.855198",
     "status": "completed"
    },
    "tags": []
   },
   "source": [
    "In this code cell, we create the target variable `y` and the feature matrix `X` for our machine learning models.\n",
    "\n",
    "We assign the \"survived\" column of the Titanic dataset to the `y` variable using `df[\"survived\"]`. This column contains binary values indicating whether each passenger survived or not (1 = survived, 0 = did not survive).\n",
    "\n",
    "We assign the remaining columns of the dataset (excluding \"survived\") to the `X` variable using `df.drop([\"survived\"], axis = 1)`. This creates a new DataFrame containing all of the other columns from the original dataset, which will be used as the input features for our machine learning models. We drop the \"survived\" column from this DataFrame using the `drop()` method and specifying `axis = 1` to indicate that we are dropping a column (as opposed to a row).\n",
    "\n",
    "\n",
    "\n"
   ]
  },
  {
   "cell_type": "code",
   "execution_count": 18,
   "id": "9380e098",
   "metadata": {
    "execution": {
     "iopub.execute_input": "2023-04-19T14:21:02.900872Z",
     "iopub.status.busy": "2023-04-19T14:21:02.900352Z",
     "iopub.status.idle": "2023-04-19T14:21:02.909450Z",
     "shell.execute_reply": "2023-04-19T14:21:02.908041Z"
    },
    "id": "__4x0ZeCA82L",
    "papermill": {
     "duration": 0.02812,
     "end_time": "2023-04-19T14:21:02.912358",
     "exception": false,
     "start_time": "2023-04-19T14:21:02.884238",
     "status": "completed"
    },
    "tags": []
   },
   "outputs": [],
   "source": [
    "y = df[\"survived\"]\n",
    "X = df.drop([\"survived\"], axis = 1)\n"
   ]
  },
  {
   "cell_type": "markdown",
   "id": "43ab4fb8",
   "metadata": {
    "papermill": {
     "duration": 0.014841,
     "end_time": "2023-04-19T14:21:02.942380",
     "exception": false,
     "start_time": "2023-04-19T14:21:02.927539",
     "status": "completed"
    },
    "tags": []
   },
   "source": [
    "This code defines a function `build_model()` which creates a neural network model using the Keras API from TensorFlow. The model consists of three fully connected layers, with 100 neurons in the input layer, 20 neurons in the hidden layer, and 1 neuron in the output layer. The input shape of the first layer is determined by the number of features in the input data `X_train`. The activation function used in the hidden layers is the Rectified Linear Unit (ReLU) function, while the output layer uses the sigmoid function. The loss function used is binary crossentropy, the optimizer used is Adam, and the metric used is accuracy.\n",
    "\n",
    "The function returns the compiled model object.\n",
    "\n",
    "\n",
    "\n"
   ]
  },
  {
   "cell_type": "code",
   "execution_count": 19,
   "id": "c9d65795",
   "metadata": {
    "execution": {
     "iopub.execute_input": "2023-04-19T14:21:02.977208Z",
     "iopub.status.busy": "2023-04-19T14:21:02.976115Z",
     "iopub.status.idle": "2023-04-19T14:21:02.985718Z",
     "shell.execute_reply": "2023-04-19T14:21:02.984167Z"
    },
    "id": "LzJAIgcUA82N",
    "papermill": {
     "duration": 0.030119,
     "end_time": "2023-04-19T14:21:02.988424",
     "exception": false,
     "start_time": "2023-04-19T14:21:02.958305",
     "status": "completed"
    },
    "tags": []
   },
   "outputs": [],
   "source": [
    "def build_model():\n",
    "    model = tf.keras.Sequential()\n",
    "    model.add(tf.keras.layers.Dense(100, input_shape =(X_train.shape[1],), activation = \"relu\" ))\n",
    "    model.add(tf.keras.layers.Dense(20, activation = \"relu\" ))\n",
    "    model.add(tf.keras.layers.Dense(1, activation = \"sigmoid\" ))\n",
    "    model.compile(loss = \"binary_crossentropy\", optimizer = \"adam\", metrics = [\"accuracy\"] )\n",
    "    return model"
   ]
  },
  {
   "cell_type": "markdown",
   "id": "7ae8bea8",
   "metadata": {
    "papermill": {
     "duration": 0.01562,
     "end_time": "2023-04-19T14:21:03.019607",
     "exception": false,
     "start_time": "2023-04-19T14:21:03.003987",
     "status": "completed"
    },
    "tags": []
   },
   "source": [
    "This code cell compares the performance of five different models for the Titanic survival prediction task. The five models are  **Neural Network (NN)**, **Logistic Regression (LogisticRegression)**, **Random Forest (RandomForest)**, **Support Vector Machine (SVC)**, and **XGBoost (XGB)**.\n",
    "\n",
    "This code creates a list called `models_result` and initializes empty lists to store the **F1 scores** of each model (`scores_nn`, `score_lgreg`, `score_rfc`, `score_svc`, and `score_xgb`).\n",
    "\n",
    "It then loops through **10** different random states and for each state, it splits the data into training and testing sets, normalizes the data using `MinMaxScaler`, builds and fits a neural network (`model_nn`), logistic regression model (`lgreg`), random forest model (`rfc`), support vector machine model (`svc`), and XGBoost model (`xgb_r`) on the training set, and calculates the **F1 score** on the testing set.\n",
    "\n"
   ]
  },
  {
   "cell_type": "code",
   "execution_count": 20,
   "id": "581b5c8c",
   "metadata": {
    "execution": {
     "iopub.execute_input": "2023-04-19T14:21:03.051203Z",
     "iopub.status.busy": "2023-04-19T14:21:03.050369Z",
     "iopub.status.idle": "2023-04-19T14:58:02.463152Z",
     "shell.execute_reply": "2023-04-19T14:58:02.461984Z"
    },
    "id": "sRZBabiDA82O",
    "outputId": "2d12ade5-6d5d-45f6-c410-c9ca9d5eeb4a",
    "papermill": {
     "duration": 2219.431745,
     "end_time": "2023-04-19T14:58:02.466064",
     "exception": false,
     "start_time": "2023-04-19T14:21:03.034319",
     "status": "completed"
    },
    "tags": []
   },
   "outputs": [
    {
     "name": "stdout",
     "output_type": "stream",
     "text": [
      "6/6 [==============================] - 0s 2ms/step\n",
      "6/6 [==============================] - 0s 3ms/step\n",
      "6/6 [==============================] - 0s 2ms/step\n",
      "6/6 [==============================] - 0s 2ms/step\n",
      "6/6 [==============================] - 0s 2ms/step\n",
      "6/6 [==============================] - 0s 2ms/step\n",
      "6/6 [==============================] - 0s 2ms/step\n",
      "6/6 [==============================] - 0s 3ms/step\n",
      "6/6 [==============================] - 0s 3ms/step\n",
      "6/6 [==============================] - 0s 2ms/step\n"
     ]
    }
   ],
   "source": [
    "\n",
    "# create a list to compare result of each model at the end\n",
    "models_result = []\n",
    "\n",
    "# estimate score of each model by using different random states. At the end mean is important.\n",
    "scores_nn = []\n",
    "score_lgreg = []\n",
    "score_rfc = []\n",
    "score_svc = []\n",
    "score_xgb = []\n",
    "\n",
    "for i in range(10):\n",
    "    # spliting\n",
    "    X_train, X_test, y_train, y_test  = train_test_split(X, y, test_size = 0.2, random_state = i)\n",
    "    \n",
    "    # Normalization\n",
    "\n",
    "    age_scaler = MinMaxScaler()\n",
    "    fare_scaler = MinMaxScaler()\n",
    "\n",
    "    age_scaler.fit(np.reshape(X_train.age.values,(-1,1)))\n",
    "    X_train[\"age\"] = np.squeeze(age_scaler.transform(np.reshape(X_train.age.values,(-1,1))))\n",
    "    X_test[\"age\"] = np.squeeze(age_scaler.transform(np.reshape(X_test.age.values,(-1,1))))\n",
    "\n",
    "\n",
    "    fare_scaler.fit(np.reshape(X_train.fare.values,(-1,1)))\n",
    "    X_train[\"fare\"] = np.squeeze(fare_scaler.transform(np.reshape(X_train.fare.values,(-1,1))))\n",
    "    X_test[\"fare\"] = np.squeeze(fare_scaler.transform(np.reshape(X_test.fare.values,(-1,1))))\n",
    "\n",
    "    # NN\n",
    "    # build model\n",
    "    model_nn = build_model()\n",
    "    # fit model\n",
    "    model_nn.fit(X_train,y_train, epochs = 5000, batch_size = 32, verbose = False)\n",
    "    prediction_nn = model_nn.predict(X_test)\n",
    "    prediction_nn_final = np.where(prediction_nn > 0.5, 1,0)\n",
    "    score_nn_i = f1_score(y_test,prediction_nn_final, average = \"weighted\" )\n",
    "    scores_nn.append(score_nn_i)\n",
    "\n",
    "    # LogisticRegression\n",
    "    lgreg = LogisticRegression(max_iter = 200)\n",
    "    lgreg.fit(X_train, y_train)\n",
    "    prediction_lgreg = lgreg.predict(X_test)\n",
    "    score_lgreg_i = f1_score(y_test,prediction_lgreg, average = \"weighted\" )\n",
    "    score_lgreg.append(score_lgreg_i)\n",
    "\n",
    "    # RandomForest\n",
    "    rfc = RandomForestClassifier()\n",
    "    rfc.fit(X_train, y_train)\n",
    "    prediction_rfc = rfc.predict(X_test)\n",
    "    score_rfc_i = f1_score(y_test,prediction_rfc, average = \"weighted\" )\n",
    "    score_rfc.append(score_rfc_i)\n",
    "\n",
    "    # SVC\n",
    "    svc = SVC()\n",
    "    svc.fit(X_train, y_train)\n",
    "    prediction_svc = svc.predict(X_test)\n",
    "    score_svc_i = f1_score(y_test,prediction_svc, average = \"weighted\" )\n",
    "    score_svc.append(score_svc_i)\n",
    "\n",
    "    # XGBoost\n",
    "    N_ESTIMATORS_XGB = 200 \n",
    "    xgb_r = XGBClassifier( n_estimators = N_ESTIMATORS_XGB)\n",
    "    xgb_r.fit(X_train, y_train)\n",
    "    prediction_xgb = xgb_r.predict(X_test)\n",
    "    score_xgb_i = f1_score(y_test,prediction_xgb, average = \"weighted\" )\n",
    "    score_xgb.append(score_xgb_i)\n",
    "\n",
    "\n",
    "models_result.append([\"NN\", np.mean(scores_nn)])\n",
    "models_result.append([\"LogisticRegression\", np.mean(score_lgreg)])\n",
    "models_result.append([\"RandomForest\", np.mean(score_rfc)])\n",
    "models_result.append([\"SVC\", np.mean(score_svc)])\n",
    "models_result.append([\"XGB\", np.mean(score_xgb)])\n",
    "\n"
   ]
  },
  {
   "cell_type": "markdown",
   "id": "e0ef438c",
   "metadata": {
    "papermill": {
     "duration": 0.014811,
     "end_time": "2023-04-19T14:58:02.497285",
     "exception": false,
     "start_time": "2023-04-19T14:58:02.482474",
     "status": "completed"
    },
    "tags": []
   },
   "source": [
    "This code creates a pandas DataFrame called `compare_df` from the list `models_result`, which contains the names of the models and their corresponding mean F1 scores across the 10 different random states. The `columns` parameter specifies the column names for the DataFrame.\n",
    "\n"
   ]
  },
  {
   "cell_type": "code",
   "execution_count": 21,
   "id": "083e7792",
   "metadata": {
    "execution": {
     "iopub.execute_input": "2023-04-19T14:58:02.529655Z",
     "iopub.status.busy": "2023-04-19T14:58:02.528527Z",
     "iopub.status.idle": "2023-04-19T14:58:02.534517Z",
     "shell.execute_reply": "2023-04-19T14:58:02.533513Z"
    },
    "id": "L6K57SJ6A82P",
    "papermill": {
     "duration": 0.024883,
     "end_time": "2023-04-19T14:58:02.537100",
     "exception": false,
     "start_time": "2023-04-19T14:58:02.512217",
     "status": "completed"
    },
    "tags": []
   },
   "outputs": [],
   "source": [
    "compare_df = pd.DataFrame(models_result, columns = [\"model\",\"score\"])"
   ]
  },
  {
   "cell_type": "markdown",
   "id": "7771e78a",
   "metadata": {
    "papermill": {
     "duration": 0.015599,
     "end_time": "2023-04-19T14:58:02.567984",
     "exception": false,
     "start_time": "2023-04-19T14:58:02.552385",
     "status": "completed"
    },
    "tags": []
   },
   "source": [
    "This code multiplies the \"score\" column of the compare_df dataframe by 100 and rounds it to two decimal places. The purpose of this is to convert the F1 score from a decimal between 0 and 1 to a percentage between 0% and 100%, which is more intuitive and easier to compare visually."
   ]
  },
  {
   "cell_type": "code",
   "execution_count": 22,
   "id": "4f1fa296",
   "metadata": {
    "execution": {
     "iopub.execute_input": "2023-04-19T14:58:02.681530Z",
     "iopub.status.busy": "2023-04-19T14:58:02.681097Z",
     "iopub.status.idle": "2023-04-19T14:58:02.687789Z",
     "shell.execute_reply": "2023-04-19T14:58:02.686374Z"
    },
    "id": "xXR0RF69A82P",
    "papermill": {
     "duration": 0.106596,
     "end_time": "2023-04-19T14:58:02.690419",
     "exception": false,
     "start_time": "2023-04-19T14:58:02.583823",
     "status": "completed"
    },
    "tags": []
   },
   "outputs": [],
   "source": [
    "# convert scores to percentage and then round them.\n",
    "compare_df[\"score\"] = (compare_df[\"score\"] * 100).round(2)"
   ]
  },
  {
   "cell_type": "markdown",
   "id": "87483c34",
   "metadata": {
    "papermill": {
     "duration": 0.015227,
     "end_time": "2023-04-19T14:58:02.720974",
     "exception": false,
     "start_time": "2023-04-19T14:58:02.705747",
     "status": "completed"
    },
    "tags": []
   },
   "source": [
    "According to the results of the evaluation, the **best-performing model** is **Support Vector Machine (SVC)** with an **F1 score of 80.09**, followed by RandomForest with a score of 79.62, XGBoost with a score of 79.56, LogisticRegression with a score of 79.34, and finally, the Neural Network (NN) with a score of 77.39. However, it is important to note that these results may vary depending on the specific data used, and it is always a good practice to try multiple models and evaluate their performance to select the best one for a particular problem.\n",
    "\n",
    "\n",
    "It's difficult to say definitively why the Support Vector Machine (SVC) performed the best and the neural network performed the worst without additional analysis. However, there are a few factors that could potentially contribute to this result.\n",
    "\n",
    "One possible explanation is that the dataset may have been better suited to the SVC algorithm. SVC works well when there is a clear separation between the classes in the data, and the algorithm tries to find the hyperplane that maximizes this separation. On the other hand, neural networks are generally more powerful and flexible models that can learn complex relationships in the data, but they may require more data and tuning to perform well.\n",
    "\n",
    "Another factor could be the way the models were implemented and tuned. For example, the neural network may not have been optimized with the best architecture or hyperparameters, while the other models may have been fine-tuned to perform well on this particular dataset.\n",
    "\n",
    "Overall, it's important to note that the performance of machine learning models can vary depending on the dataset, the algorithm, and the way the models are implemented and tuned. It's always a good idea to experiment with multiple algorithms and tune them carefully to find the best-performing model for a specific task.\n",
    "\n",
    "\n",
    "\n",
    "\n"
   ]
  },
  {
   "cell_type": "code",
   "execution_count": 23,
   "id": "128279d3",
   "metadata": {
    "execution": {
     "iopub.execute_input": "2023-04-19T14:58:02.753314Z",
     "iopub.status.busy": "2023-04-19T14:58:02.752517Z",
     "iopub.status.idle": "2023-04-19T14:58:02.765384Z",
     "shell.execute_reply": "2023-04-19T14:58:02.763856Z"
    },
    "id": "QbfTkBijA82P",
    "outputId": "1ffd68e4-17d7-4a12-903d-bdc10efd523b",
    "papermill": {
     "duration": 0.032948,
     "end_time": "2023-04-19T14:58:02.768817",
     "exception": false,
     "start_time": "2023-04-19T14:58:02.735869",
     "status": "completed"
    },
    "tags": []
   },
   "outputs": [
    {
     "data": {
      "text/html": [
       "<div>\n",
       "<style scoped>\n",
       "    .dataframe tbody tr th:only-of-type {\n",
       "        vertical-align: middle;\n",
       "    }\n",
       "\n",
       "    .dataframe tbody tr th {\n",
       "        vertical-align: top;\n",
       "    }\n",
       "\n",
       "    .dataframe thead th {\n",
       "        text-align: right;\n",
       "    }\n",
       "</style>\n",
       "<table border=\"1\" class=\"dataframe\">\n",
       "  <thead>\n",
       "    <tr style=\"text-align: right;\">\n",
       "      <th></th>\n",
       "      <th>model</th>\n",
       "      <th>score</th>\n",
       "    </tr>\n",
       "  </thead>\n",
       "  <tbody>\n",
       "    <tr>\n",
       "      <th>3</th>\n",
       "      <td>SVC</td>\n",
       "      <td>80.09</td>\n",
       "    </tr>\n",
       "    <tr>\n",
       "      <th>2</th>\n",
       "      <td>RandomForest</td>\n",
       "      <td>79.97</td>\n",
       "    </tr>\n",
       "    <tr>\n",
       "      <th>4</th>\n",
       "      <td>XGB</td>\n",
       "      <td>79.56</td>\n",
       "    </tr>\n",
       "    <tr>\n",
       "      <th>1</th>\n",
       "      <td>LogisticRegression</td>\n",
       "      <td>79.34</td>\n",
       "    </tr>\n",
       "    <tr>\n",
       "      <th>0</th>\n",
       "      <td>NN</td>\n",
       "      <td>77.77</td>\n",
       "    </tr>\n",
       "  </tbody>\n",
       "</table>\n",
       "</div>"
      ],
      "text/plain": [
       "                model  score\n",
       "3                 SVC  80.09\n",
       "2        RandomForest  79.97\n",
       "4                 XGB  79.56\n",
       "1  LogisticRegression  79.34\n",
       "0                  NN  77.77"
      ]
     },
     "execution_count": 23,
     "metadata": {},
     "output_type": "execute_result"
    }
   ],
   "source": [
    "# Based on weighted f1-score (main measure for models) can see which model did best on titanic dataset\n",
    "compare_df.sort_values([\"score\"], ascending = False)"
   ]
  },
  {
   "cell_type": "code",
   "execution_count": 24,
   "id": "d6f150d7",
   "metadata": {
    "execution": {
     "iopub.execute_input": "2023-04-19T14:58:02.801656Z",
     "iopub.status.busy": "2023-04-19T14:58:02.801218Z",
     "iopub.status.idle": "2023-04-19T14:58:02.806084Z",
     "shell.execute_reply": "2023-04-19T14:58:02.804764Z"
    },
    "id": "cbyHjKB5A82P",
    "papermill": {
     "duration": 0.024199,
     "end_time": "2023-04-19T14:58:02.808544",
     "exception": false,
     "start_time": "2023-04-19T14:58:02.784345",
     "status": "completed"
    },
    "tags": []
   },
   "outputs": [],
   "source": [
    "# Author: amyrmahdy\n",
    "# Date: 4 Dec 2022"
   ]
  },
  {
   "cell_type": "markdown",
   "id": "788282d2",
   "metadata": {
    "papermill": {
     "duration": 0.015526,
     "end_time": "2023-04-19T14:58:02.840422",
     "exception": false,
     "start_time": "2023-04-19T14:58:02.824896",
     "status": "completed"
    },
    "tags": []
   },
   "source": [
    "# Conclusion\n",
    "\n",
    "After running each model through 10 different random states, it was found that the support vector machine (SVM) had the highest F1 score of 80.09%, followed closely by the random forest and XGBoost models. Surprisingly, the neural network had the lowest F1 score of 77.39%. The difference in performance between the SVM and the neural network could be due to the small size of the dataset and the complexity of the neural network. Overall, this project highlights the importance of choosing the right machine learning model for the given task and dataset.\n",
    "\n",
    "\n",
    "\n"
   ]
  }
 ],
 "metadata": {
  "kernelspec": {
   "display_name": "Python 3",
   "language": "python",
   "name": "python3"
  },
  "language_info": {
   "codemirror_mode": {
    "name": "ipython",
    "version": 3
   },
   "file_extension": ".py",
   "mimetype": "text/x-python",
   "name": "python",
   "nbconvert_exporter": "python",
   "pygments_lexer": "ipython3",
   "version": "3.7.12"
  },
  "papermill": {
   "default_parameters": {},
   "duration": 2254.878799,
   "end_time": "2023-04-19T14:58:06.485055",
   "environment_variables": {},
   "exception": null,
   "input_path": "__notebook__.ipynb",
   "output_path": "__notebook__.ipynb",
   "parameters": {},
   "start_time": "2023-04-19T14:20:31.606256",
   "version": "2.4.0"
  }
 },
 "nbformat": 4,
 "nbformat_minor": 5
}
